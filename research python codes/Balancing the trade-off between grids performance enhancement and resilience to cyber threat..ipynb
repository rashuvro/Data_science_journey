{
 "cells": [
  {
   "cell_type": "markdown",
   "metadata": {},
   "source": [
    "## The following code simulates my paper on Balancing the trade-off between grids performance enhancement and resilience to cyber threat.\n",
    "\n",
    "The paper was presented at the resilience week 2019 conference held in San Antonio, Tx and was organized by Idaho national labs\n",
    "\n",
    "paper link: https://www.researchgate.net/publication/334625217_Balancing_Smart_Grid's_Performance_Enhancement_and_Resilience_to_Cyber_Threat"
   ]
  },
  {
   "cell_type": "code",
   "execution_count": 1,
   "metadata": {},
   "outputs": [],
   "source": [
    "import numpy as np\n",
    "import pandas as pd\n",
    "import math\n",
    "import matplotlib.pyplot as plt\n",
    "from numpy import linalg as LA\n",
    "%matplotlib inline"
   ]
  },
  {
   "cell_type": "code",
   "execution_count": 2,
   "metadata": {},
   "outputs": [],
   "source": [
    "# initialize the parameters\n",
    "Capa = [20,80,200,500,800]\n",
    "C=len(Capa)\n",
    "k =0.7\n",
    "lamda =1\n",
    "Fi =2\n",
    "Ci=1\n",
    "N =118\n",
    "NumberOfLines =186\n",
    "N_pc_max = 118\n",
    "gamma =0.05\n",
    "l = N/NumberOfLines\n",
    "psi = np.zeros(NumberOfLines+1)\n",
    "theta = np.zeros(NumberOfLines+1)\n",
    "human_error = np.zeros(NumberOfLines+1)\n",
    "a1 = np.zeros(NumberOfLines+1)\n",
    "a2 = np.zeros(NumberOfLines+1)\n",
    "a3 = np.zeros(NumberOfLines+1)\n",
    "a4 = np.zeros(NumberOfLines+1)\n",
    "b=0.6\n",
    "r = 0.6\n",
    "e=0.1\n",
    "Epsilon =np.zeros(NumberOfLines+1)\n",
    "Wf=0.5\n",
    "Wcmax=.5\n",
    "Q = np.zeros((2*C*NumberOfLines,2*C*NumberOfLines))\n",
    "deltaT =.1\n",
    "human_ini = .01"
   ]
  },
  {
   "cell_type": "code",
   "execution_count": 3,
   "metadata": {},
   "outputs": [],
   "source": [
    "for i in range(1,NumberOfLines+1):\n",
    "    theta[i] = 1-k+(k*l*i)/N_pc_max"
   ]
  },
  {
   "cell_type": "code",
   "execution_count": 4,
   "metadata": {},
   "outputs": [],
   "source": [
    "for i in range(1,NumberOfLines+1):\n",
    "    psi[i] = lamda*k*(1- (math.exp(gamma*l*i)-1)/(math.exp(gamma*N_pc_max)-1))"
   ]
  },
  {
   "cell_type": "code",
   "execution_count": 5,
   "metadata": {},
   "outputs": [],
   "source": [
    "for i in range(1,NumberOfLines+1):\n",
    "    #human_error[i] = human_ini+((1-human_ini)*i)/NumberOfLines\n",
    "    human_error[i] = 0.1*i/NumberOfLines"
   ]
  },
  {
   "cell_type": "code",
   "execution_count": 6,
   "metadata": {},
   "outputs": [],
   "source": [
    "for i in range(1,NumberOfLines+1):\n",
    "    a1[i] = max(0.4 - 0.25 * r - e *(0.2 - e) -  0.25 * theta[i],0.02)\n",
    "    a2[i] = max(0.1- 0.05 * r - 0.1 * e*(0.2 - e) - 0.07 * theta[i],0.01)\n",
    "    a3[i] = max(0.4 - 0.25 * r - e *(0.2 - e) -  0.25 * theta[i],0.02)\n",
    "    a4[i] = max(0.1- 0.05 * r - 0.1 * e*(0.2 - e) - 0.07 * theta[i],0.01)  \n",
    "    Epsilon[i] = max(0.01,(0.6 - 0.4* r - 0.5 * e - 0.3 * theta[i]))"
   ]
  },
  {
   "cell_type": "code",
   "execution_count": 7,
   "metadata": {},
   "outputs": [],
   "source": [
    "# begin loop to calculate the transition Matrix for given parameters\n",
    "for i in range(1,NumberOfLines):\n",
    "    # calculate the pStop\n",
    "    if i<=int(a2[i]*NumberOfLines):\n",
    "        f1=Epsilon[i] + a1[i]*( (a2[i]*NumberOfLines-i)/(a2[i]*NumberOfLines) )**4\n",
    "    elif i>int(a2[i]*NumberOfLines) and i<=int(b*NumberOfLines):\n",
    "        f1=Epsilon[i]\n",
    "    elif i>int(b*NumberOfLines):\n",
    "        pstop_temp = Epsilon[i] + ( (i-b*NumberOfLines)/(NumberOfLines-b*NumberOfLines))**4\n",
    "        f1=min(1,pstop_temp)\n",
    "    for j in [1,2]:\n",
    "        if j==1:\n",
    "            for k in range (1,C+1):\n",
    "                pstop_cmax = a3[i]*( (Capa[k-1]-max(Capa))/max(Capa) )**4\n",
    "                f2 = max(a4[i], pstop_cmax)\n",
    "                pStable = (Wf*f1+Wcmax*f2)*(1-psi[i])*(1-human_error[i])\n",
    "                if pStable>1:\n",
    "                    pStable ==1\n",
    "               \n",
    "                pCont = 1 -pStable\n",
    "                Q[ 2*(i-1)*C+2*(k-1)+j, 2*(i-1)*C+2*(k-1)+j+1]=pStable\n",
    "                # find the transition probabilities when there are new failures\n",
    "                 #pCont probability\n",
    "                if k==1:\n",
    "                    pContSub=min(1,0.03+6e-7*(i+112)**3)\n",
    "                    Q[2*(i-1)*C+2*(k-1)+1,2*i*C+2*(k-1)+1]= pCont*(1-pContSub)\n",
    "                if k==2:\n",
    "                    pContSub=min(1,0.03+6e-7*(i+75)**3)\n",
    "                    Q[2*(i-1)*C+2*(k-1)+1,2*i*C+2*(k-1)+1]= pCont*(1-pContSub)\n",
    "                if k==3:\n",
    "                    pContSub=min(1,0.03+6e-7*(i+20)**3)\n",
    "                    Q[2*(i-1)*C+2*(k-1)+1,2*i*C+2*(k-1)+1]= pCont*(1-pContSub)\n",
    "                if k==4:\n",
    "                    pContSub=min(1,0.03+6e-7*(i-60)**3)\n",
    "                    if pContSub<0.03:\n",
    "                        pContSub=0.03\n",
    "                    Q[2*(i-1)*C+2*(k-1)+1,2*i*C+2*(k-1)+1]= pCont*(1-pContSub)\n",
    "                if k==5:\n",
    "                    pContSub=0\n",
    "                    Q[2*(i-1)*C+2*(k-1)+1,2*i*C+2*(k-1)+1]= pCont*(1-pContSub)\n",
    "                a=2.22\n",
    "                b=1.52\n",
    "                c=0.52\n",
    "                d=0.03\n",
    "                w=[a,b, c, d]\n",
    "                if k==1:\n",
    "                    Q[2*(i-1)*C+2*(k-1)+1,2*i*C+2*(k-1)+3]= pContSub*pCont*w[0]/sum(w)\n",
    "                    Q[2*(i-1)*C+2*(k-1)+1,2*i*C+2*(k-1)+5]= pContSub*pCont*w[1]/sum(w)\n",
    "                    Q[2*(i-1)*C+2*(k-1)+1,2*i*C+2*(k-1)+7]= pContSub*pCont*w[2]/sum(w)\n",
    "                    Q[2*(i-1)*C+2*(k-1)+1,2*i*C+2*(k-1)+9]= pContSub*pCont*w[3]/sum(w)\n",
    "                if k==2:\n",
    "                    Q[2*(i-1)*C+2*(k-1)+1,2*i*C+2*(k-1)+3]= pContSub*pCont*w[1]/(sum(w)-w[0])\n",
    "                    Q[2*(i-1)*C+2*(k-1)+1,2*i*C+2*(k-1)+5]= pContSub*pCont*w[2]/(sum(w)-w[0])\n",
    "                    Q[2*(i-1)*C+2*(k-1)+1,2*i*C+2*(k-1)+7]= pContSub*pCont*w[3]/(sum(w)-w[0])\n",
    "                if k==3:\n",
    "                    Q[2*(i-1)*C+2*(k-1)+1,2*i*C+2*(k-1)+3]= pContSub*pCont*w[2]/(sum(w)-w[0]-w[1])\n",
    "                    Q[2*(i-1)*C+2*(k-1)+1,2*i*C+2*(k-1)+5]= pContSub*pCont*w[3]/(sum(w)-w[0]-w[1])\n",
    "                if k==4:\n",
    "                            Q[2*(i-1)*C+2*(k-1)+1,2*i*C+2*(k-1)+3]= pContSub*pCont*1\n",
    "Q[2*(NumberOfLines-1)*C+1:2*C*NumberOfLines,:]=0"
   ]
  },
  {
   "cell_type": "code",
   "execution_count": 8,
   "metadata": {},
   "outputs": [],
   "source": [
    "size = 2*NumberOfLines*C\n",
    "for i in range (1,size):\n",
    "            Q[i,i]=-1*sum(Q[i,:])\n",
    "Q=Q/deltaT;\n",
    "\n",
    "#Analytical result\n",
    "\n",
    "[D,V] = LA.eig(Q);\n",
    "U= np.diag(V)\n",
    "\n",
    "M=0\n",
    "ii=2*C*(Fi-1)+2*Ci-1\n",
    "Dist = np.zeros(NumberOfLines+2)\n",
    "for j in range (0,size,2):\n",
    "            if U[j].all()!=0:\n",
    "                temp=V[ii,j]/U[j]\n",
    "                Dist[M,]=Dist[M,]+temp;\n",
    "            \n",
    "            if j%(2*C)==0:\n",
    "                M=M+1;\n",
    "            "
   ]
  },
  {
   "cell_type": "code",
   "execution_count": 9,
   "metadata": {},
   "outputs": [
    {
     "data": {
      "image/png": "[encoded data removed]",
      "text/plain": [
       "<Figure size 432x288 with 1 Axes>"
      ]
     },
     "metadata": {
      "needs_background": "light"
     },
     "output_type": "display_data"
    }
   ],
   "source": [
    "# plot the distribution of the blackout size\n",
    "\n",
    "plt.plot(Dist[Fi:185]) # 'r' is the color red\n",
    "plt.title('Blackout size distribution')\n",
    "plt.xlabel (\"Number of failed lines\")\n",
    "plt.ylabel('probability')\n",
    "plt.show()"
   ]
  },
  {
   "cell_type": "code",
   "execution_count": 10,
   "metadata": {},
   "outputs": [],
   "source": [
    "# Expected line failures\n",
    "Dist1 = Dist[0:186]\n",
    "numlines = np.linspace(1, 186, num=186)\n",
    "ExpectedlineFailure = 0\n",
    "for i in range(1,len(numlines)):\n",
    "    ExpectedlineFailure = ExpectedlineFailure+Dist1[i]*numlines[i]"
   ]
  },
  {
   "cell_type": "code",
   "execution_count": 11,
   "metadata": {},
   "outputs": [
    {
     "data": {
      "text/plain": [
       "28.14189172201359"
      ]
     },
     "execution_count": 11,
     "metadata": {},
     "output_type": "execute_result"
    }
   ],
   "source": [
    "ExpectedlineFailure"
   ]
  },
  {
   "cell_type": "code",
   "execution_count": 12,
   "metadata": {},
   "outputs": [
    {
     "data": {
      "text/plain": [
       "[<matplotlib.lines.Line2D at 0x20ae5442b88>]"
      ]
     },
     "execution_count": 12,
     "metadata": {},
     "output_type": "execute_result"
    },
    {
     "data": {
      "image/png": "[encoded data removed]",
      "text/plain": [
       "<Figure size 432x288 with 1 Axes>"
      ]
     },
     "metadata": {
      "needs_background": "light"
     },
     "output_type": "display_data"
    }
   ],
   "source": [
    "# plot cyber threat parameter against line failure\n",
    "plt.xlim(Fi,NumberOfLines)\n",
    "plt.plot(psi[Fi:NumberOfLines+1])"
   ]
  },
  {
   "cell_type": "code",
   "execution_count": 13,
   "metadata": {},
   "outputs": [
    {
     "data": {
      "text/plain": [
       "(2, 186)"
      ]
     },
     "execution_count": 13,
     "metadata": {},
     "output_type": "execute_result"
    },
    {
     "data": {
      "image/png": "[encoded data removed]",
      "text/plain": [
       "<Figure size 432x288 with 1 Axes>"
      ]
     },
     "metadata": {
      "needs_background": "light"
     },
     "output_type": "display_data"
    }
   ],
   "source": [
    "# plot theta against number of line failures\n",
    "plt.plot(theta[Fi:NumberOfLines+1])\n",
    "plt.xlim(Fi,NumberOfLines)"
   ]
  },
  {
   "cell_type": "code",
   "execution_count": 14,
   "metadata": {},
   "outputs": [
    {
     "data": {
      "text/plain": [
       "(2, 186)"
      ]
     },
     "execution_count": 14,
     "metadata": {},
     "output_type": "execute_result"
    },
    {
     "data": {
      "image/png": "[encoded data removed]",
      "text/plain": [
       "<Figure size 432x288 with 2 Axes>"
      ]
     },
     "metadata": {
      "needs_background": "light"
     },
     "output_type": "display_data"
    }
   ],
   "source": [
    "# plt.subplot(nrows, ncols, plot_number)\n",
    "plt.subplot(1,2,1, )\n",
    "plt.plot(theta[Fi:NumberOfLines+1]) # More on color options later\n",
    "plt.xlim(Fi,NumberOfLines)\n",
    "plt.xlabel('number of failed lines')\n",
    "plt.ylabel('theta')\n",
    "plt.subplot(1,2,2)\n",
    "plt.plot(psi[Fi:NumberOfLines+1])\n",
    "plt.xlabel('number of failed lines')\n",
    "plt.ylabel('psi')\n",
    "plt.xlim(Fi,NumberOfLines)"
   ]
  },
  {
   "cell_type": "code",
   "execution_count": 15,
   "metadata": {},
   "outputs": [
    {
     "data": {
      "text/plain": [
       "(2, 186)"
      ]
     },
     "execution_count": 15,
     "metadata": {},
     "output_type": "execute_result"
    },
    {
     "data": {
      "image/png": "[encoded data removed]",
      "text/plain": [
       "<Figure size 432x288 with 4 Axes>"
      ]
     },
     "metadata": {
      "needs_background": "light"
     },
     "output_type": "display_data"
    }
   ],
   "source": [
    "# plot a1,a2,a3,a4 parameters\n",
    "plt.subplot(2,2,1, )\n",
    "plt.plot(a1[Fi:NumberOfLines+1]) # More on color options later\n",
    "plt.xlim(Fi,NumberOfLines)\n",
    "plt.xlabel('number of failed lines')\n",
    "plt.ylabel('a1')\n",
    "plt.subplot(2,2,2)\n",
    "plt.plot(a2[Fi:NumberOfLines+1])\n",
    "plt.xlabel('number of failed lines')\n",
    "plt.ylabel('a2')\n",
    "plt.subplot(2,2,3)\n",
    "plt.xlim(Fi,NumberOfLines)\n",
    "plt.plot(a3[Fi:NumberOfLines+1])\n",
    "plt.xlabel('number of failed lines')\n",
    "plt.ylabel('a4')\n",
    "plt.subplot(2,2,4)\n",
    "plt.xlim(Fi,NumberOfLines)\n",
    "plt.plot(a4[Fi:NumberOfLines+1])\n",
    "plt.xlabel('number of failed lines')\n",
    "plt.ylabel('a4')\n",
    "plt.xlim(Fi,NumberOfLines)"
   ]
  },
  {
   "cell_type": "code",
   "execution_count": 16,
   "metadata": {},
   "outputs": [],
   "source": [
    "df = pd.DataFrame(Q)\n",
    "df.to_excel(\"transitionmatrix_complete_model.xlsx\") "
   ]
  }
 ],
 "metadata": {
  "kernelspec": {
   "display_name": "Python 3",
   "language": "python",
   "name": "python3"
  },
  "language_info": {
   "codemirror_mode": {
    "name": "ipython",
    "version": 3
   },
   "file_extension": ".py",
   "mimetype": "text/x-python",
   "name": "python",
   "nbconvert_exporter": "python",
   "pygments_lexer": "ipython3",
   "version": "3.7.4"
  }
 },
 "nbformat": 4,
 "nbformat_minor": 2
}
