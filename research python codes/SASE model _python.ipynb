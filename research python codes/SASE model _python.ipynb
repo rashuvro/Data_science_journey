{
 "cells": [
  {
   "cell_type": "markdown",
   "metadata": {},
   "source": [
    "## The following code simulates the SASE analytical model for evaluating the blackout size distribution in power grids\n",
    "\n",
    "paper link: https://ieeexplore.ieee.org/abstract/document/6714578"
   ]
  },
  {
   "cell_type": "code",
   "execution_count": 2,
   "metadata": {},
   "outputs": [],
   "source": [
    "# initialize libraries\n",
    "\n",
    "import numpy as np\n",
    "import matplotlib.pyplot as plt\n",
    "from numpy import linalg as LA\n",
    "import pandas as pd\n",
    "%matplotlib inline"
   ]
  },
  {
   "cell_type": "code",
   "execution_count": 3,
   "metadata": {},
   "outputs": [],
   "source": [
    "# initialize the parameters\n",
    "NumberOfLines = 186 \n",
    "Epsilon = 0.05\n",
    "Capa = [20,80,200,500,800]\n",
    "C=len(Capa)\n",
    "Fi = 3\n",
    "Ci=1\n",
    "Wf=0.5\n",
    "Wcmax=0.5\n",
    "deltaT=0.1\n",
    "Q = np.zeros((2*C*NumberOfLines,2*C*NumberOfLines))\n",
    "a1 =0.04\n",
    "a2=0.02\n",
    "a3=0.04\n",
    "a4=.02\n",
    "\n",
    "Human_error = 0.1 # needs mapping between power grid and the human error"
   ]
  },
  {
   "cell_type": "code",
   "execution_count": 4,
   "metadata": {},
   "outputs": [],
   "source": [
    "# begin loop to calculate the transition Matrix for given parameters\n",
    "for i in range(1,NumberOfLines-1):\n",
    "    # calculate the pStop\n",
    "    if i<=int(a2*NumberOfLines):\n",
    "        f1=Epsilon + a1*( (a2*NumberOfLines-i)/(a2*NumberOfLines) )**4\n",
    "    elif i>int(a2*NumberOfLines) and i<=int(0.5*NumberOfLines):\n",
    "        f1=Epsilon\n",
    "    elif i>int(0.6*NumberOfLines):\n",
    "        pstop_temp = Epsilon + ( (i-0.6*NumberOfLines)/(NumberOfLines-0.6*NumberOfLines))**4\n",
    "        f1=min(1,pstop_temp)\n",
    "    for j in [0,1]:\n",
    "        if j==1:\n",
    "            for k in range (1,C+1):\n",
    "                pstop_cmax = a3*( (Capa[k-1]-max(Capa))/max(Capa) )**4\n",
    "                f2 = max(a4, pstop_cmax)\n",
    "                pStable = Wf*f1+Wcmax*f2\n",
    "                if pStable>1:\n",
    "                    pStable ==1\n",
    "                #pCont probability\n",
    "                pCont = 1 -pStable\n",
    "                Q[ 2*(i-1)*C+2*(k-1)+j, 2*(i-1)*C+2*(k-1)+j+1]=pStable;\n",
    "                # find the transition probabilities when there are new failures\n",
    "                if k==1:\n",
    "                    pContSub=min(1,0.03+6e-7*(i+112)**3);\n",
    "                    Q[2*(i-1)*C+2*(k-1)+1,2*i*C+2*(k-1)+1]= pCont*(1-pContSub)\n",
    "                if k==2:\n",
    "                    pContSub=min(1,0.03+6e-7*(i+75)**3);\n",
    "                    Q[2*(i-1)*C+2*(k-1)+1,2*i*C+2*(k-1)+1]= pCont*(1-pContSub)\n",
    "                if k==3:\n",
    "                    pContSub=min(1,0.03+6e-7*(i+20)**3);\n",
    "                    Q[2*(i-1)*C+2*(k-1)+1,2*i*C+2*(k-1)+1]= pCont*(1-pContSub)\n",
    "                if k==4:\n",
    "                    pContSub=min(1,0.03+6e-7*(i-60)**3);\n",
    "                    if pContSub<0.03:\n",
    "                        pContSub=0.03\n",
    "                    Q[2*(i-1)*C+2*(k-1)+1,2*i*C+2*(k-1)+1]= pCont*(1-pContSub)\n",
    "                if k==5:\n",
    "                    pContSub=0;\n",
    "                    Q[2*(i-1)*C+2*(k-1)+1,2*i*C+2*(k-1)+1]= pCont*(1-pContSub)\n",
    "                a=2.22\n",
    "                b=1.52\n",
    "                c=0.52\n",
    "                d=0.03\n",
    "                w=[a,b, c, d]\n",
    "                if k==1:\n",
    "                    Q[2*(i-1)*C+2*(k-1)+1,2*i*C+2*(k-1)+3]= pContSub*pCont*w[0]/sum(w)\n",
    "                    Q[2*(i-1)*C+2*(k-1)+1,2*i*C+2*(k-1)+5]= pContSub*pCont*w[1]/sum(w)\n",
    "                    Q[2*(i-1)*C+2*(k-1)+1,2*i*C+2*(k-1)+7]= pContSub*pCont*w[2]/sum(w)\n",
    "                    Q[2*(i-1)*C+2*(k-1)+1,2*i*C+2*(k-1)+9]= pContSub*pCont*w[3]/sum(w)\n",
    "                if k==2:\n",
    "                    Q[2*(i-1)*C+2*(k-1)+1,2*i*C+2*(k-1)+3]= pContSub*pCont*w[1]/(sum(w)-w[0])\n",
    "                    Q[2*(i-1)*C+2*(k-1)+1,2*i*C+2*(k-1)+5]= pContSub*pCont*w[2]/(sum(w)-w[0])\n",
    "                    Q[2*(i-1)*C+2*(k-1)+1,2*i*C+2*(k-1)+7]= pContSub*pCont*w[3]/(sum(w)-w[0])\n",
    "                if k==3:\n",
    "                    Q[2*(i-1)*C+2*(k-1)+1,2*i*C+2*(k-1)+3]= pContSub*pCont*w[2]/(sum(w)-w[0]-w[1])\n",
    "                    Q[2*(i-1)*C+2*(k-1)+1,2*i*C+2*(k-1)+5]= pContSub*pCont*w[3]/(sum(w)-w[0]-w[1])\n",
    "                if k==4:\n",
    "                            Q[2*(i-1)*C+2*(k-1)+1,2*i*C+2*(k-1)+3]= pContSub*pCont*1;\n",
    "\n",
    "\n",
    "Q[2*(NumberOfLines-1)*C+1:2*C*NumberOfLines,:]=0\n",
    "\n",
    "\n"
   ]
  },
  {
   "cell_type": "code",
   "execution_count": 5,
   "metadata": {},
   "outputs": [],
   "source": [
    "size = 2*NumberOfLines*C\n",
    "for i in range (1,size):\n",
    "            Q[i,i]=-1*sum(Q[i,:])\n",
    "Q=Q/deltaT;"
   ]
  },
  {
   "cell_type": "code",
   "execution_count": 6,
   "metadata": {},
   "outputs": [],
   "source": [
    "# Analytical result\n",
    "\n",
    "[D,V] = LA.eig(Q);\n",
    "U= np.diag(V)\n",
    "\n",
    "M=0\n",
    "ii=2*C*(Fi-1)+2*Ci-1\n",
    "Dist = np.zeros(NumberOfLines+2)\n",
    "for j in range (0,size,2):\n",
    "            if U[j].all()!=0:\n",
    "                temp=V[ii,j]/U[j]\n",
    "                Dist[M,]=Dist[M,]+temp;\n",
    "            \n",
    "            if j%(2*C)==0:\n",
    "                M=M+1;\n",
    "            \n",
    "\n"
   ]
  },
  {
   "cell_type": "code",
   "execution_count": 7,
   "metadata": {},
   "outputs": [
    {
     "data": {
      "image/png": "[encoded data removed]",
      "text/plain": [
       "<Figure size 432x288 with 1 Axes>"
      ]
     },
     "metadata": {
      "needs_background": "light"
     },
     "output_type": "display_data"
    }
   ],
   "source": [
    "# plot the distribution of the blackout size\n",
    "\n",
    "plt.plot(Dist[Fi:185]) # 'r' is the color red\n",
    "plt.title('Blackout size distribution')\n",
    "plt.xlabel (\"Number of failed lines\")\n",
    "plt.ylabel('probability')\n",
    "plt.show()"
   ]
  },
  {
   "cell_type": "code",
   "execution_count": null,
   "metadata": {},
   "outputs": [],
   "source": []
  }
 ],
 "metadata": {
  "kernelspec": {
   "display_name": "Python 3",
   "language": "python",
   "name": "python3"
  },
  "language_info": {
   "codemirror_mode": {
    "name": "ipython",
    "version": 3
   },
   "file_extension": ".py",
   "mimetype": "text/x-python",
   "name": "python",
   "nbconvert_exporter": "python",
   "pygments_lexer": "ipython3",
   "version": "3.7.4"
  }
 },
 "nbformat": 4,
 "nbformat_minor": 2
}
