{
 "cells": [
  {
   "cell_type": "markdown",
   "metadata": {},
   "source": [
    "## The following codes classifies cascading failures in power grids suign various machine learning algorithms. Part of the results were used in my following paper\n",
    "\n",
    "Models used: \n",
    "\n",
    "- Logistic regression\n",
    "- Knearest neighbor\n",
    "- Support vector machines\n",
    "-\n",
    "Paper link : https://www.researchgate.net/publication/334971986_Predicting_Cascading_Failures_in_Power_Grids_using_Machine_Learning_Algorithms\n"
   ]
  },
  {
   "cell_type": "code",
   "execution_count": 1,
   "metadata": {},
   "outputs": [],
   "source": [
    "import pandas as pd\n",
    "import numpy as np\n",
    "import matplotlib.pyplot as plt\n",
    "import seaborn as sns\n",
    "%matplotlib inline"
   ]
  },
  {
   "cell_type": "code",
   "execution_count": 2,
   "metadata": {},
   "outputs": [],
   "source": [
    "train = pd.read_csv('lg2.csv')"
   ]
  },
  {
   "cell_type": "code",
   "execution_count": 3,
   "metadata": {},
   "outputs": [
    {
     "data": {
      "text/html": [
       "<div>\n",
       "<style scoped>\n",
       "    .dataframe tbody tr th:only-of-type {\n",
       "        vertical-align: middle;\n",
       "    }\n",
       "\n",
       "    .dataframe tbody tr th {\n",
       "        vertical-align: top;\n",
       "    }\n",
       "\n",
       "    .dataframe thead th {\n",
       "        text-align: right;\n",
       "    }\n",
       "</style>\n",
       "<table border=\"1\" class=\"dataframe\">\n",
       "  <thead>\n",
       "    <tr style=\"text-align: right;\">\n",
       "      <th></th>\n",
       "      <th>r</th>\n",
       "      <th>theta</th>\n",
       "      <th>e</th>\n",
       "      <th>fixed fail probability of neighbors</th>\n",
       "      <th>avg betwenness rounded</th>\n",
       "      <th>avg SP rounded</th>\n",
       "      <th>islands</th>\n",
       "      <th>flow capacity of the initially failed lines</th>\n",
       "      <th>total Number of line fail</th>\n",
       "    </tr>\n",
       "  </thead>\n",
       "  <tbody>\n",
       "    <tr>\n",
       "      <td>0</td>\n",
       "      <td>0.5</td>\n",
       "      <td>0.10</td>\n",
       "      <td>0.20</td>\n",
       "      <td>0.02</td>\n",
       "      <td>0.2</td>\n",
       "      <td>6</td>\n",
       "      <td>8</td>\n",
       "      <td>216</td>\n",
       "      <td>2</td>\n",
       "    </tr>\n",
       "    <tr>\n",
       "      <td>1</td>\n",
       "      <td>0.5</td>\n",
       "      <td>0.15</td>\n",
       "      <td>0.10</td>\n",
       "      <td>0.02</td>\n",
       "      <td>0.4</td>\n",
       "      <td>2</td>\n",
       "      <td>4</td>\n",
       "      <td>56</td>\n",
       "      <td>1</td>\n",
       "    </tr>\n",
       "    <tr>\n",
       "      <td>2</td>\n",
       "      <td>0.9</td>\n",
       "      <td>0.10</td>\n",
       "      <td>0.05</td>\n",
       "      <td>0.01</td>\n",
       "      <td>0.1</td>\n",
       "      <td>5</td>\n",
       "      <td>1</td>\n",
       "      <td>108</td>\n",
       "      <td>0</td>\n",
       "    </tr>\n",
       "    <tr>\n",
       "      <td>3</td>\n",
       "      <td>0.9</td>\n",
       "      <td>0.25</td>\n",
       "      <td>0.10</td>\n",
       "      <td>0.01</td>\n",
       "      <td>0.3</td>\n",
       "      <td>7</td>\n",
       "      <td>2</td>\n",
       "      <td>394</td>\n",
       "      <td>0</td>\n",
       "    </tr>\n",
       "    <tr>\n",
       "      <td>4</td>\n",
       "      <td>0.9</td>\n",
       "      <td>0.05</td>\n",
       "      <td>0.05</td>\n",
       "      <td>0.03</td>\n",
       "      <td>0.2</td>\n",
       "      <td>4</td>\n",
       "      <td>1</td>\n",
       "      <td>79</td>\n",
       "      <td>0</td>\n",
       "    </tr>\n",
       "  </tbody>\n",
       "</table>\n",
       "</div>"
      ],
      "text/plain": [
       "     r  theta     e  fixed fail probability of neighbors  \\\n",
       "0  0.5   0.10  0.20                                 0.02   \n",
       "1  0.5   0.15  0.10                                 0.02   \n",
       "2  0.9   0.10  0.05                                 0.01   \n",
       "3  0.9   0.25  0.10                                 0.01   \n",
       "4  0.9   0.05  0.05                                 0.03   \n",
       "\n",
       "   avg betwenness rounded  avg SP rounded  islands  \\\n",
       "0                     0.2               6        8   \n",
       "1                     0.4               2        4   \n",
       "2                     0.1               5        1   \n",
       "3                     0.3               7        2   \n",
       "4                     0.2               4        1   \n",
       "\n",
       "   flow capacity of the initially failed lines  total Number of line fail  \n",
       "0                                          216                          2  \n",
       "1                                           56                          1  \n",
       "2                                          108                          0  \n",
       "3                                          394                          0  \n",
       "4                                           79                          0  "
      ]
     },
     "execution_count": 3,
     "metadata": {},
     "output_type": "execute_result"
    }
   ],
   "source": [
    "train.head()"
   ]
  },
  {
   "cell_type": "code",
   "execution_count": 4,
   "metadata": {},
   "outputs": [],
   "source": [
    "from sklearn.model_selection import train_test_split"
   ]
  },
  {
   "cell_type": "code",
   "execution_count": 5,
   "metadata": {},
   "outputs": [
    {
     "data": {
      "text/plain": [
       "Index(['r', 'theta', 'e', 'fixed fail probability of neighbors',\n",
       "       'avg betwenness rounded', 'avg SP rounded', 'islands',\n",
       "       'flow capacity of the initially failed lines',\n",
       "       'total Number of line fail'],\n",
       "      dtype='object')"
      ]
     },
     "execution_count": 5,
     "metadata": {},
     "output_type": "execute_result"
    }
   ],
   "source": [
    "train.columns"
   ]
  },
  {
   "cell_type": "code",
   "execution_count": 6,
   "metadata": {},
   "outputs": [],
   "source": [
    "from sklearn.linear_model import LogisticRegression"
   ]
  },
  {
   "cell_type": "code",
   "execution_count": 7,
   "metadata": {},
   "outputs": [],
   "source": [
    "X_train, X_test, y_train, y_test = train_test_split(train.drop('total Number of line fail',axis=1), \n",
    "                                                    train['total Number of line fail'], test_size=0.30, \n",
    "                                                    random_state=101)"
   ]
  },
  {
   "cell_type": "code",
   "execution_count": 8,
   "metadata": {},
   "outputs": [
    {
     "name": "stderr",
     "output_type": "stream",
     "text": [
      "C:\\Users\\6394shuvror\\AppData\\Local\\Continuum\\anaconda3\\lib\\site-packages\\sklearn\\linear_model\\logistic.py:432: FutureWarning: Default solver will be changed to 'lbfgs' in 0.22. Specify a solver to silence this warning.\n",
      "  FutureWarning)\n",
      "C:\\Users\\6394shuvror\\AppData\\Local\\Continuum\\anaconda3\\lib\\site-packages\\sklearn\\linear_model\\logistic.py:469: FutureWarning: Default multi_class will be changed to 'auto' in 0.22. Specify the multi_class option to silence this warning.\n",
      "  \"this warning.\", FutureWarning)\n"
     ]
    },
    {
     "data": {
      "text/plain": [
       "LogisticRegression(C=1.0, class_weight=None, dual=False, fit_intercept=True,\n",
       "                   intercept_scaling=1, l1_ratio=None, max_iter=100,\n",
       "                   multi_class='warn', n_jobs=None, penalty='l2',\n",
       "                   random_state=None, solver='warn', tol=0.0001, verbose=0,\n",
       "                   warm_start=False)"
      ]
     },
     "execution_count": 8,
     "metadata": {},
     "output_type": "execute_result"
    }
   ],
   "source": [
    "logmodel = LogisticRegression()\n",
    "logmodel.fit(X_train,y_train)"
   ]
  },
  {
   "cell_type": "code",
   "execution_count": 9,
   "metadata": {},
   "outputs": [],
   "source": [
    "predictions = logmodel.predict(X_test)"
   ]
  },
  {
   "cell_type": "code",
   "execution_count": 10,
   "metadata": {},
   "outputs": [],
   "source": [
    "from sklearn.metrics import classification_report"
   ]
  },
  {
   "cell_type": "code",
   "execution_count": 11,
   "metadata": {},
   "outputs": [
    {
     "name": "stdout",
     "output_type": "stream",
     "text": [
      "              precision    recall  f1-score   support\n",
      "\n",
      "           0       0.92      0.97      0.95     12951\n",
      "           1       0.88      0.79      0.83      7509\n",
      "           2       0.83      0.80      0.81      2517\n",
      "\n",
      "    accuracy                           0.90     22977\n",
      "   macro avg       0.87      0.86      0.86     22977\n",
      "weighted avg       0.89      0.90      0.89     22977\n",
      "\n"
     ]
    }
   ],
   "source": [
    "print(classification_report(y_test,predictions))"
   ]
  },
  {
   "cell_type": "code",
   "execution_count": 12,
   "metadata": {},
   "outputs": [],
   "source": [
    "from sklearn.metrics import confusion_matrix"
   ]
  },
  {
   "cell_type": "code",
   "execution_count": 13,
   "metadata": {},
   "outputs": [
    {
     "data": {
      "text/plain": [
       "array([[12621,   330,     0],\n",
       "       [ 1130,  5960,   419],\n",
       "       [    1,   510,  2006]], dtype=int64)"
      ]
     },
     "execution_count": 13,
     "metadata": {},
     "output_type": "execute_result"
    }
   ],
   "source": [
    "confusion_matrix(y_test,predictions)"
   ]
  },
  {
   "cell_type": "code",
   "execution_count": 14,
   "metadata": {},
   "outputs": [
    {
     "data": {
      "text/plain": [
       "{'C': 1.0,\n",
       " 'class_weight': None,\n",
       " 'dual': False,\n",
       " 'fit_intercept': True,\n",
       " 'intercept_scaling': 1,\n",
       " 'l1_ratio': None,\n",
       " 'max_iter': 100,\n",
       " 'multi_class': 'warn',\n",
       " 'n_jobs': None,\n",
       " 'penalty': 'l2',\n",
       " 'random_state': None,\n",
       " 'solver': 'warn',\n",
       " 'tol': 0.0001,\n",
       " 'verbose': 0,\n",
       " 'warm_start': False}"
      ]
     },
     "execution_count": 14,
     "metadata": {},
     "output_type": "execute_result"
    }
   ],
   "source": [
    "logmodel.get_params(deep =True)"
   ]
  },
  {
   "cell_type": "code",
   "execution_count": 15,
   "metadata": {},
   "outputs": [
    {
     "data": {
      "text/plain": [
       "array([[ 8.70645960e+00, -2.20626219e-01, -4.25038719e+00,\n",
       "         6.57536733e+00, -1.61265153e+00,  2.92613771e-03,\n",
       "        -2.55915241e+00, -2.29367829e-03],\n",
       "       [-7.24619178e+00, -9.56968351e-02,  4.26310491e+00,\n",
       "        -8.63685877e+00,  4.08844945e-01,  1.08862975e-02,\n",
       "        -3.72385158e-02,  3.52586660e-03],\n",
       "       [-2.58737147e+00, -3.30688976e-01,  1.66030210e+00,\n",
       "        -1.28066510e+00,  4.29953513e-01, -1.99296119e-02,\n",
       "         1.36554941e+00, -4.21834324e-04]])"
      ]
     },
     "execution_count": 15,
     "metadata": {},
     "output_type": "execute_result"
    }
   ],
   "source": [
    "logmodel.coef_"
   ]
  },
  {
   "cell_type": "code",
   "execution_count": 16,
   "metadata": {},
   "outputs": [],
   "source": [
    "from sklearn.preprocessing import StandardScaler"
   ]
  },
  {
   "cell_type": "code",
   "execution_count": 17,
   "metadata": {},
   "outputs": [],
   "source": [
    "scaler = StandardScaler()"
   ]
  },
  {
   "cell_type": "code",
   "execution_count": 18,
   "metadata": {},
   "outputs": [
    {
     "data": {
      "text/plain": [
       "StandardScaler(copy=True, with_mean=True, with_std=True)"
      ]
     },
     "execution_count": 18,
     "metadata": {},
     "output_type": "execute_result"
    }
   ],
   "source": [
    "scaler.fit(train.drop('total Number of line fail',axis=1))"
   ]
  },
  {
   "cell_type": "code",
   "execution_count": 19,
   "metadata": {},
   "outputs": [],
   "source": [
    "scaler_f= scaler.transform(train.drop('total Number of line fail',axis=1))"
   ]
  },
  {
   "cell_type": "code",
   "execution_count": 20,
   "metadata": {},
   "outputs": [
    {
     "data": {
      "text/plain": [
       "array([[-1.41070313e+00, -7.06495351e-01,  7.12266145e-01, ...,\n",
       "         2.83513377e-02,  1.34093729e+00,  3.72647716e-01],\n",
       "       [-1.41070313e+00,  1.19199953e-03, -7.03209996e-01, ...,\n",
       "        -1.43976489e+00,  1.69751383e-01, -8.36839634e-01],\n",
       "       [ 1.41955381e+00, -7.06495351e-01, -1.41094807e+00, ...,\n",
       "        -3.38677719e-01, -7.08638048e-01, -4.43756245e-01],\n",
       "       ...,\n",
       "       [-1.41070313e+00,  1.41656670e+00,  1.42000422e+00, ...,\n",
       "        -7.05706776e-01,  7.55344337e-01, -3.90841174e-01],\n",
       "       [ 4.42533679e-03,  1.41656670e+00, -1.41094807e+00, ...,\n",
       "        -1.80679395e+00, -1.23045094e-01,  4.55799971e-01],\n",
       "       [-1.41070313e+00, -7.06495351e-01,  4.52807467e-03, ...,\n",
       "        -7.05706776e-01,  1.69751383e-01,  8.33764768e-01]])"
      ]
     },
     "execution_count": 20,
     "metadata": {},
     "output_type": "execute_result"
    }
   ],
   "source": [
    "scaler_f"
   ]
  },
  {
   "cell_type": "code",
   "execution_count": 21,
   "metadata": {},
   "outputs": [],
   "source": [
    "train_feat = pd.DataFrame(scaler_f,columns=train.columns[:-1])"
   ]
  },
  {
   "cell_type": "code",
   "execution_count": 22,
   "metadata": {},
   "outputs": [
    {
     "data": {
      "text/html": [
       "<div>\n",
       "<style scoped>\n",
       "    .dataframe tbody tr th:only-of-type {\n",
       "        vertical-align: middle;\n",
       "    }\n",
       "\n",
       "    .dataframe tbody tr th {\n",
       "        vertical-align: top;\n",
       "    }\n",
       "\n",
       "    .dataframe thead th {\n",
       "        text-align: right;\n",
       "    }\n",
       "</style>\n",
       "<table border=\"1\" class=\"dataframe\">\n",
       "  <thead>\n",
       "    <tr style=\"text-align: right;\">\n",
       "      <th></th>\n",
       "      <th>r</th>\n",
       "      <th>theta</th>\n",
       "      <th>e</th>\n",
       "      <th>fixed fail probability of neighbors</th>\n",
       "      <th>avg betwenness rounded</th>\n",
       "      <th>avg SP rounded</th>\n",
       "      <th>islands</th>\n",
       "      <th>flow capacity of the initially failed lines</th>\n",
       "    </tr>\n",
       "  </thead>\n",
       "  <tbody>\n",
       "    <tr>\n",
       "      <td>0</td>\n",
       "      <td>-1.410703</td>\n",
       "      <td>-0.706495</td>\n",
       "      <td>0.712266</td>\n",
       "      <td>-0.383531</td>\n",
       "      <td>-0.233944</td>\n",
       "      <td>0.028351</td>\n",
       "      <td>1.340937</td>\n",
       "      <td>0.372648</td>\n",
       "    </tr>\n",
       "    <tr>\n",
       "      <td>1</td>\n",
       "      <td>-1.410703</td>\n",
       "      <td>0.001192</td>\n",
       "      <td>-0.703210</td>\n",
       "      <td>-0.383531</td>\n",
       "      <td>0.686579</td>\n",
       "      <td>-1.439765</td>\n",
       "      <td>0.169751</td>\n",
       "      <td>-0.836840</td>\n",
       "    </tr>\n",
       "    <tr>\n",
       "      <td>2</td>\n",
       "      <td>1.419554</td>\n",
       "      <td>-0.706495</td>\n",
       "      <td>-1.410948</td>\n",
       "      <td>-1.015164</td>\n",
       "      <td>-0.694205</td>\n",
       "      <td>-0.338678</td>\n",
       "      <td>-0.708638</td>\n",
       "      <td>-0.443756</td>\n",
       "    </tr>\n",
       "    <tr>\n",
       "      <td>3</td>\n",
       "      <td>1.419554</td>\n",
       "      <td>1.416567</td>\n",
       "      <td>-0.703210</td>\n",
       "      <td>-1.015164</td>\n",
       "      <td>0.226318</td>\n",
       "      <td>0.395380</td>\n",
       "      <td>-0.415842</td>\n",
       "      <td>1.718202</td>\n",
       "    </tr>\n",
       "    <tr>\n",
       "      <td>4</td>\n",
       "      <td>1.419554</td>\n",
       "      <td>-1.414183</td>\n",
       "      <td>-1.410948</td>\n",
       "      <td>0.248102</td>\n",
       "      <td>-0.233944</td>\n",
       "      <td>-0.705707</td>\n",
       "      <td>-0.708638</td>\n",
       "      <td>-0.662976</td>\n",
       "    </tr>\n",
       "    <tr>\n",
       "      <td>...</td>\n",
       "      <td>...</td>\n",
       "      <td>...</td>\n",
       "      <td>...</td>\n",
       "      <td>...</td>\n",
       "      <td>...</td>\n",
       "      <td>...</td>\n",
       "      <td>...</td>\n",
       "      <td>...</td>\n",
       "    </tr>\n",
       "    <tr>\n",
       "      <td>76582</td>\n",
       "      <td>0.004425</td>\n",
       "      <td>-1.414183</td>\n",
       "      <td>-1.410948</td>\n",
       "      <td>-0.383531</td>\n",
       "      <td>-0.694205</td>\n",
       "      <td>2.597555</td>\n",
       "      <td>-0.415842</td>\n",
       "      <td>-0.194299</td>\n",
       "    </tr>\n",
       "    <tr>\n",
       "      <td>76583</td>\n",
       "      <td>-1.410703</td>\n",
       "      <td>-0.706495</td>\n",
       "      <td>-1.410948</td>\n",
       "      <td>-1.015164</td>\n",
       "      <td>2.527624</td>\n",
       "      <td>0.028351</td>\n",
       "      <td>0.755344</td>\n",
       "      <td>-0.050673</td>\n",
       "    </tr>\n",
       "    <tr>\n",
       "      <td>76584</td>\n",
       "      <td>-1.410703</td>\n",
       "      <td>1.416567</td>\n",
       "      <td>1.420004</td>\n",
       "      <td>-1.015164</td>\n",
       "      <td>1.607101</td>\n",
       "      <td>-0.705707</td>\n",
       "      <td>0.755344</td>\n",
       "      <td>-0.390841</td>\n",
       "    </tr>\n",
       "    <tr>\n",
       "      <td>76585</td>\n",
       "      <td>0.004425</td>\n",
       "      <td>1.416567</td>\n",
       "      <td>-1.410948</td>\n",
       "      <td>-1.015164</td>\n",
       "      <td>0.226318</td>\n",
       "      <td>-1.806794</td>\n",
       "      <td>-0.123045</td>\n",
       "      <td>0.455800</td>\n",
       "    </tr>\n",
       "    <tr>\n",
       "      <td>76586</td>\n",
       "      <td>-1.410703</td>\n",
       "      <td>-0.706495</td>\n",
       "      <td>0.004528</td>\n",
       "      <td>-0.383531</td>\n",
       "      <td>2.527624</td>\n",
       "      <td>-0.705707</td>\n",
       "      <td>0.169751</td>\n",
       "      <td>0.833765</td>\n",
       "    </tr>\n",
       "  </tbody>\n",
       "</table>\n",
       "<p>76587 rows × 8 columns</p>\n",
       "</div>"
      ],
      "text/plain": [
       "              r     theta         e  fixed fail probability of neighbors  \\\n",
       "0     -1.410703 -0.706495  0.712266                            -0.383531   \n",
       "1     -1.410703  0.001192 -0.703210                            -0.383531   \n",
       "2      1.419554 -0.706495 -1.410948                            -1.015164   \n",
       "3      1.419554  1.416567 -0.703210                            -1.015164   \n",
       "4      1.419554 -1.414183 -1.410948                             0.248102   \n",
       "...         ...       ...       ...                                  ...   \n",
       "76582  0.004425 -1.414183 -1.410948                            -0.383531   \n",
       "76583 -1.410703 -0.706495 -1.410948                            -1.015164   \n",
       "76584 -1.410703  1.416567  1.420004                            -1.015164   \n",
       "76585  0.004425  1.416567 -1.410948                            -1.015164   \n",
       "76586 -1.410703 -0.706495  0.004528                            -0.383531   \n",
       "\n",
       "       avg betwenness rounded  avg SP rounded   islands  \\\n",
       "0                   -0.233944        0.028351  1.340937   \n",
       "1                    0.686579       -1.439765  0.169751   \n",
       "2                   -0.694205       -0.338678 -0.708638   \n",
       "3                    0.226318        0.395380 -0.415842   \n",
       "4                   -0.233944       -0.705707 -0.708638   \n",
       "...                       ...             ...       ...   \n",
       "76582               -0.694205        2.597555 -0.415842   \n",
       "76583                2.527624        0.028351  0.755344   \n",
       "76584                1.607101       -0.705707  0.755344   \n",
       "76585                0.226318       -1.806794 -0.123045   \n",
       "76586                2.527624       -0.705707  0.169751   \n",
       "\n",
       "       flow capacity of the initially failed lines  \n",
       "0                                         0.372648  \n",
       "1                                        -0.836840  \n",
       "2                                        -0.443756  \n",
       "3                                         1.718202  \n",
       "4                                        -0.662976  \n",
       "...                                            ...  \n",
       "76582                                    -0.194299  \n",
       "76583                                    -0.050673  \n",
       "76584                                    -0.390841  \n",
       "76585                                     0.455800  \n",
       "76586                                     0.833765  \n",
       "\n",
       "[76587 rows x 8 columns]"
      ]
     },
     "execution_count": 22,
     "metadata": {},
     "output_type": "execute_result"
    }
   ],
   "source": [
    "train_feat"
   ]
  },
  {
   "cell_type": "code",
   "execution_count": 23,
   "metadata": {},
   "outputs": [],
   "source": [
    "X = train_feat\n",
    "y = train['total Number of line fail']\n",
    "\n",
    "X_train, X_test, y_train, y_test = train_test_split(X, y,test_size=0.3, random_state=101)"
   ]
  },
  {
   "cell_type": "code",
   "execution_count": 24,
   "metadata": {},
   "outputs": [],
   "source": [
    "from sklearn.neighbors import KNeighborsClassifier"
   ]
  },
  {
   "cell_type": "code",
   "execution_count": 25,
   "metadata": {},
   "outputs": [],
   "source": [
    "error_rate = []\n",
    "for i in range(1,40):\n",
    "    knn = KNeighborsClassifier(n_neighbors=i)\n",
    "    knn.fit(X_train,y_train)\n",
    "    pred_i = knn.predict(X_test)\n",
    "    error_rate.append(np.mean(pred_i != y_test))"
   ]
  },
  {
   "cell_type": "code",
   "execution_count": 26,
   "metadata": {},
   "outputs": [
    {
     "data": {
      "text/plain": [
       "[<matplotlib.lines.Line2D at 0x203eb278b48>]"
      ]
     },
     "execution_count": 26,
     "metadata": {},
     "output_type": "execute_result"
    },
    {
     "data": {
      "image/png": "[encoded data removed]",
      "text/plain": [
       "<Figure size 720x432 with 1 Axes>"
      ]
     },
     "metadata": {
      "needs_background": "light"
     },
     "output_type": "display_data"
    }
   ],
   "source": [
    "plt.figure(figsize=(10,6))\n",
    "plt.plot(range(1,40),error_rate)"
   ]
  },
  {
   "cell_type": "code",
   "execution_count": 30,
   "metadata": {},
   "outputs": [],
   "source": [
    "knn = KNeighborsClassifier(n_neighbors=9)"
   ]
  },
  {
   "cell_type": "code",
   "execution_count": 31,
   "metadata": {},
   "outputs": [
    {
     "name": "stdout",
     "output_type": "stream",
     "text": [
      "[[12783   168     0]\n",
      " [ 1561  5839   109]\n",
      " [    4   823  1690]]\n",
      "\n",
      "\n",
      "              precision    recall  f1-score   support\n",
      "\n",
      "           0       0.89      0.99      0.94     12951\n",
      "           1       0.85      0.78      0.81      7509\n",
      "           2       0.94      0.67      0.78      2517\n",
      "\n",
      "    accuracy                           0.88     22977\n",
      "   macro avg       0.90      0.81      0.84     22977\n",
      "weighted avg       0.88      0.88      0.88     22977\n",
      "\n"
     ]
    }
   ],
   "source": [
    "print(confusion_matrix(y_test,pred_i))\n",
    "print('\\n')\n",
    "print(classification_report(y_test,pred_i))"
   ]
  },
  {
   "cell_type": "code",
   "execution_count": 32,
   "metadata": {},
   "outputs": [],
   "source": [
    "from sklearn.tree import DecisionTreeClassifier"
   ]
  },
  {
   "cell_type": "code",
   "execution_count": 33,
   "metadata": {},
   "outputs": [],
   "source": [
    "dtree = DecisionTreeClassifier()"
   ]
  },
  {
   "cell_type": "code",
   "execution_count": 34,
   "metadata": {},
   "outputs": [
    {
     "data": {
      "text/plain": [
       "DecisionTreeClassifier(class_weight=None, criterion='gini', max_depth=None,\n",
       "                       max_features=None, max_leaf_nodes=None,\n",
       "                       min_impurity_decrease=0.0, min_impurity_split=None,\n",
       "                       min_samples_leaf=1, min_samples_split=2,\n",
       "                       min_weight_fraction_leaf=0.0, presort=False,\n",
       "                       random_state=None, splitter='best')"
      ]
     },
     "execution_count": 34,
     "metadata": {},
     "output_type": "execute_result"
    }
   ],
   "source": [
    "dtree.fit(X_train,y_train)"
   ]
  },
  {
   "cell_type": "code",
   "execution_count": 35,
   "metadata": {},
   "outputs": [],
   "source": [
    "predictions = dtree.predict(X_test)"
   ]
  },
  {
   "cell_type": "code",
   "execution_count": 36,
   "metadata": {},
   "outputs": [],
   "source": [
    "from sklearn.metrics import classification_report,confusion_matrix"
   ]
  },
  {
   "cell_type": "code",
   "execution_count": 37,
   "metadata": {},
   "outputs": [
    {
     "name": "stdout",
     "output_type": "stream",
     "text": [
      "              precision    recall  f1-score   support\n",
      "\n",
      "           0       0.93      0.93      0.93     12951\n",
      "           1       0.80      0.80      0.80      7509\n",
      "           2       0.75      0.79      0.77      2517\n",
      "\n",
      "    accuracy                           0.87     22977\n",
      "   macro avg       0.83      0.84      0.83     22977\n",
      "weighted avg       0.87      0.87      0.87     22977\n",
      "\n"
     ]
    }
   ],
   "source": [
    "print(classification_report(y_test,predictions))"
   ]
  },
  {
   "cell_type": "code",
   "execution_count": 38,
   "metadata": {},
   "outputs": [
    {
     "name": "stdout",
     "output_type": "stream",
     "text": [
      "[[12032   918     1]\n",
      " [  864  5989   656]\n",
      " [    0   535  1982]]\n"
     ]
    }
   ],
   "source": [
    "print(confusion_matrix(y_test,predictions))"
   ]
  },
  {
   "cell_type": "code",
   "execution_count": 39,
   "metadata": {},
   "outputs": [
    {
     "data": {
      "text/plain": [
       "RandomForestClassifier(bootstrap=True, class_weight=None, criterion='gini',\n",
       "                       max_depth=None, max_features='auto', max_leaf_nodes=None,\n",
       "                       min_impurity_decrease=0.0, min_impurity_split=None,\n",
       "                       min_samples_leaf=1, min_samples_split=2,\n",
       "                       min_weight_fraction_leaf=0.0, n_estimators=100,\n",
       "                       n_jobs=None, oob_score=False, random_state=None,\n",
       "                       verbose=0, warm_start=False)"
      ]
     },
     "execution_count": 39,
     "metadata": {},
     "output_type": "execute_result"
    }
   ],
   "source": [
    "from sklearn.ensemble import RandomForestClassifier\n",
    "rfc = RandomForestClassifier(n_estimators=100)\n",
    "rfc.fit(X_train, y_train)"
   ]
  },
  {
   "cell_type": "code",
   "execution_count": 40,
   "metadata": {},
   "outputs": [],
   "source": [
    "rfc_pred = rfc.predict(X_test)"
   ]
  },
  {
   "cell_type": "code",
   "execution_count": 41,
   "metadata": {},
   "outputs": [
    {
     "name": "stdout",
     "output_type": "stream",
     "text": [
      "[[12474   477     0]\n",
      " [  772  6421   316]\n",
      " [    0   510  2007]]\n"
     ]
    }
   ],
   "source": [
    "print(confusion_matrix(y_test,rfc_pred))"
   ]
  },
  {
   "cell_type": "code",
   "execution_count": 42,
   "metadata": {},
   "outputs": [
    {
     "name": "stdout",
     "output_type": "stream",
     "text": [
      "              precision    recall  f1-score   support\n",
      "\n",
      "           0       0.94      0.96      0.95     12951\n",
      "           1       0.87      0.86      0.86      7509\n",
      "           2       0.86      0.80      0.83      2517\n",
      "\n",
      "    accuracy                           0.91     22977\n",
      "   macro avg       0.89      0.87      0.88     22977\n",
      "weighted avg       0.91      0.91      0.91     22977\n",
      "\n"
     ]
    }
   ],
   "source": [
    "print(classification_report(y_test,rfc_pred))"
   ]
  },
  {
   "cell_type": "code",
   "execution_count": 43,
   "metadata": {},
   "outputs": [],
   "source": [
    "from sklearn.svm import SVC"
   ]
  },
  {
   "cell_type": "code",
   "execution_count": 44,
   "metadata": {},
   "outputs": [],
   "source": [
    "model = SVC()"
   ]
  },
  {
   "cell_type": "code",
   "execution_count": 45,
   "metadata": {},
   "outputs": [
    {
     "name": "stderr",
     "output_type": "stream",
     "text": [
      "C:\\Users\\6394shuvror\\AppData\\Local\\Continuum\\anaconda3\\lib\\site-packages\\sklearn\\svm\\base.py:193: FutureWarning: The default value of gamma will change from 'auto' to 'scale' in version 0.22 to account better for unscaled features. Set gamma explicitly to 'auto' or 'scale' to avoid this warning.\n",
      "  \"avoid this warning.\", FutureWarning)\n"
     ]
    },
    {
     "data": {
      "text/plain": [
       "SVC(C=1.0, cache_size=200, class_weight=None, coef0=0.0,\n",
       "    decision_function_shape='ovr', degree=3, gamma='auto_deprecated',\n",
       "    kernel='rbf', max_iter=-1, probability=False, random_state=None,\n",
       "    shrinking=True, tol=0.001, verbose=False)"
      ]
     },
     "execution_count": 45,
     "metadata": {},
     "output_type": "execute_result"
    }
   ],
   "source": [
    "model.fit(X_train,y_train)"
   ]
  },
  {
   "cell_type": "code",
   "execution_count": 46,
   "metadata": {},
   "outputs": [
    {
     "name": "stdout",
     "output_type": "stream",
     "text": [
      "[[12571   380     0]\n",
      " [  852  6408   249]\n",
      " [    0   554  1963]]\n",
      "\n",
      "\n",
      "              precision    recall  f1-score   support\n",
      "\n",
      "           0       0.94      0.97      0.95     12951\n",
      "           1       0.87      0.85      0.86      7509\n",
      "           2       0.89      0.78      0.83      2517\n",
      "\n",
      "    accuracy                           0.91     22977\n",
      "   macro avg       0.90      0.87      0.88     22977\n",
      "weighted avg       0.91      0.91      0.91     22977\n",
      "\n"
     ]
    }
   ],
   "source": [
    "predictions = model.predict(X_test)\n",
    "print(confusion_matrix(y_test,predictions))\n",
    "print('\\n')\n",
    "print(classification_report(y_test,predictions))"
   ]
  },
  {
   "cell_type": "code",
   "execution_count": 47,
   "metadata": {},
   "outputs": [],
   "source": [
    "from sklearn.ensemble import AdaBoostClassifier"
   ]
  },
  {
   "cell_type": "code",
   "execution_count": 48,
   "metadata": {},
   "outputs": [],
   "source": [
    "ada = AdaBoostClassifier()"
   ]
  },
  {
   "cell_type": "code",
   "execution_count": 49,
   "metadata": {},
   "outputs": [
    {
     "data": {
      "text/plain": [
       "AdaBoostClassifier(algorithm='SAMME.R', base_estimator=None, learning_rate=1.0,\n",
       "                   n_estimators=50, random_state=None)"
      ]
     },
     "execution_count": 49,
     "metadata": {},
     "output_type": "execute_result"
    }
   ],
   "source": [
    "ada.fit(X_train,y_train)"
   ]
  },
  {
   "cell_type": "code",
   "execution_count": 50,
   "metadata": {},
   "outputs": [],
   "source": [
    "ada_pred = ada.predict(X_test)"
   ]
  },
  {
   "cell_type": "code",
   "execution_count": 51,
   "metadata": {},
   "outputs": [
    {
     "name": "stdout",
     "output_type": "stream",
     "text": [
      "[[12583   368     0]\n",
      " [  960  5111  1438]\n",
      " [    0   318  2199]]\n"
     ]
    }
   ],
   "source": [
    "print(confusion_matrix(y_test,ada_pred))"
   ]
  },
  {
   "cell_type": "code",
   "execution_count": 52,
   "metadata": {},
   "outputs": [
    {
     "name": "stdout",
     "output_type": "stream",
     "text": [
      "              precision    recall  f1-score   support\n",
      "\n",
      "           0       0.93      0.97      0.95     12951\n",
      "           1       0.88      0.68      0.77      7509\n",
      "           2       0.60      0.87      0.71      2517\n",
      "\n",
      "    accuracy                           0.87     22977\n",
      "   macro avg       0.81      0.84      0.81     22977\n",
      "weighted avg       0.88      0.87      0.86     22977\n",
      "\n"
     ]
    }
   ],
   "source": [
    "print(classification_report(y_test,ada_pred))"
   ]
  }
 ],
 "metadata": {
  "kernelspec": {
   "display_name": "Python 3",
   "language": "python",
   "name": "python3"
  },
  "language_info": {
   "codemirror_mode": {
    "name": "ipython",
    "version": 3
   },
   "file_extension": ".py",
   "mimetype": "text/x-python",
   "name": "python",
   "nbconvert_exporter": "python",
   "pygments_lexer": "ipython3",
   "version": "3.7.4"
  }
 },
 "nbformat": 4,
 "nbformat_minor": 2
}
