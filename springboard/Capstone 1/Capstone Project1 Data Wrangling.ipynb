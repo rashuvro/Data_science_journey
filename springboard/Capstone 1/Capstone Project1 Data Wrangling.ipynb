{
 "cells": [
  {
   "cell_type": "markdown",
   "metadata": {},
   "source": [
    "### Motivation:\n",
    "\n",
    "Power grids are systems where the demand-supply chain has to be maintained always between the generation of power, and the demand for power from the users to operate power grids without interruptions. Although protective measures are in place, power grids are prone to cascading failures.  Cascading failures in the power grids are scenarios where a small disturbance in the power grid can create a domino effect due to an imbalance sudden between demand-supply. The number of people getting affected by these events and the economic loss is astronomical. For example, the cascading failures in 2003 in the North-East affected more than 55 million people and the economic impact was in the billions.  From 1965 to 2008, there were nine massive blackout events affecting more than 20 million people whereas in the last decade there were seven massive blackouts including the largest one in India [1].  In this project I will use a dataset that i have developed [2] earlier  to model cascading failures in power grid.\n",
    "\n",
    "\n",
    "\n",
    "\n",
    "### Summary of the project obsjective:\n",
    "This project is a domain-specific research project and will answer the following  problems:\n",
    "\n",
    "- First, perform exploratory data analysis to find the patterns in data, for example observing the role of various features like load-shedding, human error, etc. on cascading failure. \n",
    "- Using regression techniques to find the effect of cascading failures due to various initiating disturbance conditions when cascading ends.\n",
    "- Use classification techniques to identify the critical (leads to cascading failure) and non-critical (does not lead to cascading failure) initiating feature values.\n",
    "- Do a comparison between various machine learning algorithms, do hyperparameter tuning where necessary.\n",
    "\n",
    "### Dataset: \n",
    "I have developed the  cascading failures simulated dataset using my Cascading failure simulation (CFS) framework developed in Matlab.   It has more than 60000 simulations of cascading failures. The dataset contains 17 features and 2 target variables (total failed lines, Loadshed). \n",
    "\n",
    "Reference:\n",
    "1. https://en.wikipedia.org/wiki/List_of_major_power_outages\n",
    "2. Rezoan A. Shuvro, Mitun Talukder, Pankaz Das, Majeed M. Hayat, “Predicting Cascading Failures in Power Grids using Machine Learning Algorithms”, North American Power Symposium (NAPS’2019)\n",
    "\n",
    "\n"
   ]
  },
  {
   "cell_type": "markdown",
   "metadata": {},
   "source": [
    "-  Importing the libraries and loading the .csv file in a dataframe"
   ]
  },
  {
   "cell_type": "code",
   "execution_count": 1,
   "metadata": {},
   "outputs": [],
   "source": [
    "import numpy as np\n",
    "import matplotlib.pyplot as plt\n",
    "import pandas as pd\n",
    "import seaborn as sns\n",
    "from sklearn.preprocessing import MinMaxScaler"
   ]
  },
  {
   "cell_type": "code",
   "execution_count": 2,
   "metadata": {},
   "outputs": [],
   "source": [
    "# loading the dataset\n",
    "dataset = pd.read_csv('CFS_dataset.csv')"
   ]
  },
  {
   "cell_type": "markdown",
   "metadata": {},
   "source": [
    "- head of the data set"
   ]
  },
  {
   "cell_type": "code",
   "execution_count": 3,
   "metadata": {},
   "outputs": [
    {
     "data": {
      "text/html": [
       "<div>\n",
       "<style scoped>\n",
       "    .dataframe tbody tr th:only-of-type {\n",
       "        vertical-align: middle;\n",
       "    }\n",
       "\n",
       "    .dataframe tbody tr th {\n",
       "        vertical-align: top;\n",
       "    }\n",
       "\n",
       "    .dataframe thead th {\n",
       "        text-align: right;\n",
       "    }\n",
       "</style>\n",
       "<table border=\"1\" class=\"dataframe\">\n",
       "  <thead>\n",
       "    <tr style=\"text-align: right;\">\n",
       "      <th></th>\n",
       "      <th>initially failed lines</th>\n",
       "      <th>failed lines after cascade</th>\n",
       "      <th>Cmax</th>\n",
       "      <th>Cmin</th>\n",
       "      <th>loadshedding constraint</th>\n",
       "      <th>loading ratio</th>\n",
       "      <th>capacity estimation error</th>\n",
       "      <th>flow capacity</th>\n",
       "      <th>Island?</th>\n",
       "      <th>degree</th>\n",
       "      <th>distance</th>\n",
       "      <th>installed cap</th>\n",
       "      <th>Load shedd</th>\n",
       "      <th>Load shedd.1</th>\n",
       "      <th>demand</th>\n",
       "      <th>served</th>\n",
       "      <th>HEP</th>\n",
       "      <th>generated</th>\n",
       "      <th>Alpha</th>\n",
       "      <th>failed lines due to cascade</th>\n",
       "    </tr>\n",
       "  </thead>\n",
       "  <tbody>\n",
       "    <tr>\n",
       "      <th>0</th>\n",
       "      <td>6</td>\n",
       "      <td>86</td>\n",
       "      <td>200</td>\n",
       "      <td>50</td>\n",
       "      <td>0.45</td>\n",
       "      <td>0.90</td>\n",
       "      <td>0.50</td>\n",
       "      <td>768</td>\n",
       "      <td>0</td>\n",
       "      <td>2.675</td>\n",
       "      <td>7.397</td>\n",
       "      <td>1550</td>\n",
       "      <td>6307</td>\n",
       "      <td>6307</td>\n",
       "      <td>8970.0</td>\n",
       "      <td>2663.0</td>\n",
       "      <td>0.50</td>\n",
       "      <td>2663.0</td>\n",
       "      <td>0.2</td>\n",
       "      <td>80</td>\n",
       "    </tr>\n",
       "    <tr>\n",
       "      <th>1</th>\n",
       "      <td>4</td>\n",
       "      <td>52</td>\n",
       "      <td>200</td>\n",
       "      <td>100</td>\n",
       "      <td>0.05</td>\n",
       "      <td>0.85</td>\n",
       "      <td>0.20</td>\n",
       "      <td>209</td>\n",
       "      <td>0</td>\n",
       "      <td>2.699</td>\n",
       "      <td>6.912</td>\n",
       "      <td>450</td>\n",
       "      <td>2934</td>\n",
       "      <td>2934</td>\n",
       "      <td>8471.0</td>\n",
       "      <td>5537.0</td>\n",
       "      <td>0.50</td>\n",
       "      <td>5538.0</td>\n",
       "      <td>0.2</td>\n",
       "      <td>48</td>\n",
       "    </tr>\n",
       "    <tr>\n",
       "      <th>2</th>\n",
       "      <td>7</td>\n",
       "      <td>17</td>\n",
       "      <td>200</td>\n",
       "      <td>100</td>\n",
       "      <td>0.40</td>\n",
       "      <td>0.75</td>\n",
       "      <td>0.01</td>\n",
       "      <td>537</td>\n",
       "      <td>0</td>\n",
       "      <td>2.663</td>\n",
       "      <td>6.951</td>\n",
       "      <td>1050</td>\n",
       "      <td>700</td>\n",
       "      <td>700</td>\n",
       "      <td>7475.0</td>\n",
       "      <td>6775.0</td>\n",
       "      <td>0.50</td>\n",
       "      <td>6774.0</td>\n",
       "      <td>0.2</td>\n",
       "      <td>10</td>\n",
       "    </tr>\n",
       "    <tr>\n",
       "      <th>3</th>\n",
       "      <td>9</td>\n",
       "      <td>9</td>\n",
       "      <td>200</td>\n",
       "      <td>50</td>\n",
       "      <td>0.30</td>\n",
       "      <td>0.90</td>\n",
       "      <td>0.05</td>\n",
       "      <td>526</td>\n",
       "      <td>0</td>\n",
       "      <td>2.638</td>\n",
       "      <td>7.048</td>\n",
       "      <td>850</td>\n",
       "      <td>1507</td>\n",
       "      <td>1507</td>\n",
       "      <td>8970.0</td>\n",
       "      <td>7463.0</td>\n",
       "      <td>0.29</td>\n",
       "      <td>7462.0</td>\n",
       "      <td>0.2</td>\n",
       "      <td>0</td>\n",
       "    </tr>\n",
       "    <tr>\n",
       "      <th>4</th>\n",
       "      <td>3</td>\n",
       "      <td>82</td>\n",
       "      <td>200</td>\n",
       "      <td>50</td>\n",
       "      <td>0.05</td>\n",
       "      <td>0.85</td>\n",
       "      <td>0.35</td>\n",
       "      <td>149</td>\n",
       "      <td>0</td>\n",
       "      <td>2.712</td>\n",
       "      <td>6.855</td>\n",
       "      <td>300</td>\n",
       "      <td>3534</td>\n",
       "      <td>3534</td>\n",
       "      <td>8471.0</td>\n",
       "      <td>4937.0</td>\n",
       "      <td>0.72</td>\n",
       "      <td>4937.0</td>\n",
       "      <td>0.2</td>\n",
       "      <td>79</td>\n",
       "    </tr>\n",
       "  </tbody>\n",
       "</table>\n",
       "</div>"
      ],
      "text/plain": [
       "   initially failed lines  failed lines after cascade  Cmax  Cmin  \\\n",
       "0                       6                          86   200    50   \n",
       "1                       4                          52   200   100   \n",
       "2                       7                          17   200   100   \n",
       "3                       9                           9   200    50   \n",
       "4                       3                          82   200    50   \n",
       "\n",
       "   loadshedding constraint  loading ratio  capacity estimation error  \\\n",
       "0                     0.45           0.90                       0.50   \n",
       "1                     0.05           0.85                       0.20   \n",
       "2                     0.40           0.75                       0.01   \n",
       "3                     0.30           0.90                       0.05   \n",
       "4                     0.05           0.85                       0.35   \n",
       "\n",
       "   flow capacity  Island?  degree  distance  installed cap  Load shedd  \\\n",
       "0            768        0   2.675     7.397           1550        6307   \n",
       "1            209        0   2.699     6.912            450        2934   \n",
       "2            537        0   2.663     6.951           1050         700   \n",
       "3            526        0   2.638     7.048            850        1507   \n",
       "4            149        0   2.712     6.855            300        3534   \n",
       "\n",
       "   Load shedd.1  demand  served   HEP  generated  Alpha  \\\n",
       "0          6307  8970.0  2663.0  0.50     2663.0    0.2   \n",
       "1          2934  8471.0  5537.0  0.50     5538.0    0.2   \n",
       "2           700  7475.0  6775.0  0.50     6774.0    0.2   \n",
       "3          1507  8970.0  7463.0  0.29     7462.0    0.2   \n",
       "4          3534  8471.0  4937.0  0.72     4937.0    0.2   \n",
       "\n",
       "   failed lines due to cascade  \n",
       "0                           80  \n",
       "1                           48  \n",
       "2                           10  \n",
       "3                            0  \n",
       "4                           79  "
      ]
     },
     "execution_count": 3,
     "metadata": {},
     "output_type": "execute_result"
    }
   ],
   "source": [
    "dataset.head(5)"
   ]
  },
  {
   "cell_type": "markdown",
   "metadata": {},
   "source": [
    "-  Tail of the dataset to check the size is okay"
   ]
  },
  {
   "cell_type": "code",
   "execution_count": 4,
   "metadata": {},
   "outputs": [
    {
     "data": {
      "text/html": [
       "<div>\n",
       "<style scoped>\n",
       "    .dataframe tbody tr th:only-of-type {\n",
       "        vertical-align: middle;\n",
       "    }\n",
       "\n",
       "    .dataframe tbody tr th {\n",
       "        vertical-align: top;\n",
       "    }\n",
       "\n",
       "    .dataframe thead th {\n",
       "        text-align: right;\n",
       "    }\n",
       "</style>\n",
       "<table border=\"1\" class=\"dataframe\">\n",
       "  <thead>\n",
       "    <tr style=\"text-align: right;\">\n",
       "      <th></th>\n",
       "      <th>initially failed lines</th>\n",
       "      <th>failed lines after cascade</th>\n",
       "      <th>Cmax</th>\n",
       "      <th>Cmin</th>\n",
       "      <th>loadshedding constraint</th>\n",
       "      <th>loading ratio</th>\n",
       "      <th>capacity estimation error</th>\n",
       "      <th>flow capacity</th>\n",
       "      <th>Island?</th>\n",
       "      <th>degree</th>\n",
       "      <th>distance</th>\n",
       "      <th>installed cap</th>\n",
       "      <th>Load shedd</th>\n",
       "      <th>Load shedd.1</th>\n",
       "      <th>demand</th>\n",
       "      <th>served</th>\n",
       "      <th>HEP</th>\n",
       "      <th>generated</th>\n",
       "      <th>Alpha</th>\n",
       "      <th>failed lines due to cascade</th>\n",
       "    </tr>\n",
       "  </thead>\n",
       "  <tbody>\n",
       "    <tr>\n",
       "      <th>66815</th>\n",
       "      <td>10</td>\n",
       "      <td>56</td>\n",
       "      <td>100</td>\n",
       "      <td>50</td>\n",
       "      <td>0.70</td>\n",
       "      <td>0.7</td>\n",
       "      <td>0.15</td>\n",
       "      <td>481</td>\n",
       "      <td>0</td>\n",
       "      <td>2.625767</td>\n",
       "      <td>6.960539</td>\n",
       "      <td>900</td>\n",
       "      <td>2380</td>\n",
       "      <td>2380</td>\n",
       "      <td>6976.34</td>\n",
       "      <td>4596.34</td>\n",
       "      <td>0.091743</td>\n",
       "      <td>4595.900659</td>\n",
       "      <td>0.10</td>\n",
       "      <td>46</td>\n",
       "    </tr>\n",
       "    <tr>\n",
       "      <th>66816</th>\n",
       "      <td>5</td>\n",
       "      <td>47</td>\n",
       "      <td>200</td>\n",
       "      <td>100</td>\n",
       "      <td>0.55</td>\n",
       "      <td>0.6</td>\n",
       "      <td>0.20</td>\n",
       "      <td>499</td>\n",
       "      <td>0</td>\n",
       "      <td>2.687117</td>\n",
       "      <td>6.827160</td>\n",
       "      <td>800</td>\n",
       "      <td>1574</td>\n",
       "      <td>1574</td>\n",
       "      <td>5979.72</td>\n",
       "      <td>4405.72</td>\n",
       "      <td>0.168067</td>\n",
       "      <td>4405.717426</td>\n",
       "      <td>0.01</td>\n",
       "      <td>42</td>\n",
       "    </tr>\n",
       "  </tbody>\n",
       "</table>\n",
       "</div>"
      ],
      "text/plain": [
       "       initially failed lines  failed lines after cascade  Cmax  Cmin  \\\n",
       "66815                      10                          56   100    50   \n",
       "66816                       5                          47   200   100   \n",
       "\n",
       "       loadshedding constraint  loading ratio  capacity estimation error  \\\n",
       "66815                     0.70            0.7                       0.15   \n",
       "66816                     0.55            0.6                       0.20   \n",
       "\n",
       "       flow capacity  Island?    degree  distance  installed cap  Load shedd  \\\n",
       "66815            481        0  2.625767  6.960539            900        2380   \n",
       "66816            499        0  2.687117  6.827160            800        1574   \n",
       "\n",
       "       Load shedd.1   demand   served       HEP    generated  Alpha  \\\n",
       "66815          2380  6976.34  4596.34  0.091743  4595.900659   0.10   \n",
       "66816          1574  5979.72  4405.72  0.168067  4405.717426   0.01   \n",
       "\n",
       "       failed lines due to cascade  \n",
       "66815                           46  \n",
       "66816                           42  "
      ]
     },
     "execution_count": 4,
     "metadata": {},
     "output_type": "execute_result"
    }
   ],
   "source": [
    "dataset.tail(2)"
   ]
  },
  {
   "cell_type": "markdown",
   "metadata": {},
   "source": [
    "- Load shed is available twice in the dataset. So, i will drop that column."
   ]
  },
  {
   "cell_type": "code",
   "execution_count": 5,
   "metadata": {},
   "outputs": [
    {
     "data": {
      "text/plain": [
       "Index(['initially failed lines', 'failed lines after cascade', 'Cmax', 'Cmin',\n",
       "       'loadshedding constraint', 'loading ratio', 'capacity estimation error',\n",
       "       'flow capacity', 'Island?', 'degree', 'distance', 'installed cap',\n",
       "       'Load shedd', 'Load shedd.1', 'demand', 'served', 'HEP', 'generated',\n",
       "       'Alpha', 'failed lines due to cascade'],\n",
       "      dtype='object')"
      ]
     },
     "execution_count": 5,
     "metadata": {},
     "output_type": "execute_result"
    }
   ],
   "source": [
    "#columns of the dataset\n",
    "dataset.columns"
   ]
  },
  {
   "cell_type": "markdown",
   "metadata": {},
   "source": [
    "- The dataset column names are not consistent. So, i need to rename them to avoid inconsistensy"
   ]
  },
  {
   "cell_type": "code",
   "execution_count": 6,
   "metadata": {},
   "outputs": [],
   "source": [
    "dataset.rename(columns={'initially failed lines': ' Intial failed lines', \n",
    "                       'failed lines after cascade':'Failed lines after cascade ends',\n",
    "                        'loadshedding constraint': 'Load-shedding constraint',\n",
    "                        'loading ratio': 'load-demand ratio',\n",
    "                        'capacity estimation error':'Capacity estimation error',\n",
    "                        'flow capacity':'Flow capacity','degree':'Degree', 'distance':'Distance',\n",
    "                        'installed cap':'Installed capacity',\n",
    "        'demand':'Demand', 'served':'Served', 'HEP':'Human error Probability', 'generated':'Generation',\n",
    "        'failed lines due to cascade':'Failed lines due to cascade'\n",
    "                       },inplace=True)"
   ]
  },
  {
   "cell_type": "code",
   "execution_count": 7,
   "metadata": {},
   "outputs": [
    {
     "data": {
      "text/plain": [
       "(66817, 20)"
      ]
     },
     "execution_count": 7,
     "metadata": {},
     "output_type": "execute_result"
    }
   ],
   "source": [
    "# shape of the dataset\n",
    "dataset.shape"
   ]
  },
  {
   "cell_type": "code",
   "execution_count": 8,
   "metadata": {},
   "outputs": [
    {
     "name": "stdout",
     "output_type": "stream",
     "text": [
      "<class 'pandas.core.frame.DataFrame'>\n",
      "RangeIndex: 66817 entries, 0 to 66816\n",
      "Data columns (total 20 columns):\n",
      " Intial failed lines               66817 non-null int64\n",
      "Failed lines after cascade ends    66817 non-null int64\n",
      "Cmax                               66817 non-null int64\n",
      "Cmin                               66817 non-null int64\n",
      "Load-shedding constraint           66817 non-null float64\n",
      "load-demand ratio                  66817 non-null float64\n",
      "Capacity estimation error          66817 non-null float64\n",
      "Flow capacity                      66817 non-null int64\n",
      "Island?                            66817 non-null int64\n",
      "Degree                             66817 non-null float64\n",
      "Distance                           66817 non-null float64\n",
      "Installed capacity                 66817 non-null int64\n",
      "Load shedd                         66817 non-null int64\n",
      "Load shedd.1                       66817 non-null int64\n",
      "Demand                             66817 non-null float64\n",
      "Served                             66817 non-null float64\n",
      "Human error Probability            66817 non-null float64\n",
      "Generation                         66817 non-null float64\n",
      "Alpha                              66817 non-null float64\n",
      "Failed lines due to cascade        66817 non-null int64\n",
      "dtypes: float64(10), int64(10)\n",
      "memory usage: 10.2 MB\n"
     ]
    }
   ],
   "source": [
    "dataset.info()"
   ]
  },
  {
   "cell_type": "markdown",
   "metadata": {},
   "source": [
    "Since the data-set was generated from simulation, there should be no missing values in the dataset. We can confirm from above that there are no missing values in the dataset."
   ]
  },
  {
   "cell_type": "markdown",
   "metadata": {},
   "source": [
    "### Data cleaing and wranling "
   ]
  },
  {
   "cell_type": "markdown",
   "metadata": {},
   "source": [
    "- Load shedd and Load shedd.1 are same so remove Load shedd.1 "
   ]
  },
  {
   "cell_type": "code",
   "execution_count": 9,
   "metadata": {},
   "outputs": [],
   "source": [
    "dataset.drop('Load shedd.1',axis=1,inplace=True)"
   ]
  },
  {
   "cell_type": "code",
   "execution_count": 10,
   "metadata": {},
   "outputs": [
    {
     "data": {
      "text/html": [
       "<div>\n",
       "<style scoped>\n",
       "    .dataframe tbody tr th:only-of-type {\n",
       "        vertical-align: middle;\n",
       "    }\n",
       "\n",
       "    .dataframe tbody tr th {\n",
       "        vertical-align: top;\n",
       "    }\n",
       "\n",
       "    .dataframe thead th {\n",
       "        text-align: right;\n",
       "    }\n",
       "</style>\n",
       "<table border=\"1\" class=\"dataframe\">\n",
       "  <thead>\n",
       "    <tr style=\"text-align: right;\">\n",
       "      <th></th>\n",
       "      <th>Intial failed lines</th>\n",
       "      <th>Failed lines after cascade ends</th>\n",
       "      <th>Cmax</th>\n",
       "      <th>Cmin</th>\n",
       "      <th>Load-shedding constraint</th>\n",
       "      <th>load-demand ratio</th>\n",
       "      <th>Capacity estimation error</th>\n",
       "      <th>Flow capacity</th>\n",
       "      <th>Island?</th>\n",
       "      <th>Degree</th>\n",
       "      <th>Distance</th>\n",
       "      <th>Installed capacity</th>\n",
       "      <th>Loadshed</th>\n",
       "      <th>Demand</th>\n",
       "      <th>Served</th>\n",
       "      <th>Human error Probability</th>\n",
       "      <th>Generation</th>\n",
       "      <th>Alpha</th>\n",
       "      <th>Failed lines due to cascade</th>\n",
       "    </tr>\n",
       "  </thead>\n",
       "  <tbody>\n",
       "    <tr>\n",
       "      <th>0</th>\n",
       "      <td>6</td>\n",
       "      <td>86</td>\n",
       "      <td>200</td>\n",
       "      <td>50</td>\n",
       "      <td>0.45</td>\n",
       "      <td>0.90</td>\n",
       "      <td>0.5</td>\n",
       "      <td>768</td>\n",
       "      <td>0</td>\n",
       "      <td>2.675</td>\n",
       "      <td>7.397</td>\n",
       "      <td>1550</td>\n",
       "      <td>6307</td>\n",
       "      <td>8970.0</td>\n",
       "      <td>2663.0</td>\n",
       "      <td>0.5</td>\n",
       "      <td>2663.0</td>\n",
       "      <td>0.2</td>\n",
       "      <td>80</td>\n",
       "    </tr>\n",
       "    <tr>\n",
       "      <th>1</th>\n",
       "      <td>4</td>\n",
       "      <td>52</td>\n",
       "      <td>200</td>\n",
       "      <td>100</td>\n",
       "      <td>0.05</td>\n",
       "      <td>0.85</td>\n",
       "      <td>0.2</td>\n",
       "      <td>209</td>\n",
       "      <td>0</td>\n",
       "      <td>2.699</td>\n",
       "      <td>6.912</td>\n",
       "      <td>450</td>\n",
       "      <td>2934</td>\n",
       "      <td>8471.0</td>\n",
       "      <td>5537.0</td>\n",
       "      <td>0.5</td>\n",
       "      <td>5538.0</td>\n",
       "      <td>0.2</td>\n",
       "      <td>48</td>\n",
       "    </tr>\n",
       "  </tbody>\n",
       "</table>\n",
       "</div>"
      ],
      "text/plain": [
       "    Intial failed lines  Failed lines after cascade ends  Cmax  Cmin  \\\n",
       "0                     6                               86   200    50   \n",
       "1                     4                               52   200   100   \n",
       "\n",
       "   Load-shedding constraint  load-demand ratio  Capacity estimation error  \\\n",
       "0                      0.45               0.90                        0.5   \n",
       "1                      0.05               0.85                        0.2   \n",
       "\n",
       "   Flow capacity  Island?  Degree  Distance  Installed capacity  Loadshed  \\\n",
       "0            768        0   2.675     7.397                1550      6307   \n",
       "1            209        0   2.699     6.912                 450      2934   \n",
       "\n",
       "   Demand  Served  Human error Probability  Generation  Alpha  \\\n",
       "0  8970.0  2663.0                      0.5      2663.0    0.2   \n",
       "1  8471.0  5537.0                      0.5      5538.0    0.2   \n",
       "\n",
       "   Failed lines due to cascade  \n",
       "0                           80  \n",
       "1                           48  "
      ]
     },
     "execution_count": 10,
     "metadata": {},
     "output_type": "execute_result"
    }
   ],
   "source": [
    "# renaming Load shedd\n",
    "dataset.rename(columns={'Load shedd':'Loadshed'},inplace=True)\n",
    "dataset.head(2)"
   ]
  },
  {
   "cell_type": "markdown",
   "metadata": {},
   "source": [
    "Now, i will check the summary statistic and the correlation between variables to check if there is any inconsistency"
   ]
  },
  {
   "cell_type": "code",
   "execution_count": 11,
   "metadata": {},
   "outputs": [],
   "source": [
    "dataset_describe = dataset.describe().transpose()"
   ]
  },
  {
   "cell_type": "code",
   "execution_count": 12,
   "metadata": {},
   "outputs": [],
   "source": [
    "dataset_describe = dataset_describe.drop('count',axis =1)"
   ]
  },
  {
   "cell_type": "code",
   "execution_count": 13,
   "metadata": {},
   "outputs": [
    {
     "data": {
      "text/html": [
       "<div>\n",
       "<style scoped>\n",
       "    .dataframe tbody tr th:only-of-type {\n",
       "        vertical-align: middle;\n",
       "    }\n",
       "\n",
       "    .dataframe tbody tr th {\n",
       "        vertical-align: top;\n",
       "    }\n",
       "\n",
       "    .dataframe thead th {\n",
       "        text-align: right;\n",
       "    }\n",
       "</style>\n",
       "<table border=\"1\" class=\"dataframe\">\n",
       "  <thead>\n",
       "    <tr style=\"text-align: right;\">\n",
       "      <th></th>\n",
       "      <th>mean</th>\n",
       "      <th>std</th>\n",
       "      <th>min</th>\n",
       "      <th>25%</th>\n",
       "      <th>50%</th>\n",
       "      <th>75%</th>\n",
       "      <th>max</th>\n",
       "    </tr>\n",
       "  </thead>\n",
       "  <tbody>\n",
       "    <tr>\n",
       "      <th>Intial failed lines</th>\n",
       "      <td>6.00</td>\n",
       "      <td>2.58</td>\n",
       "      <td>2.00</td>\n",
       "      <td>4.00</td>\n",
       "      <td>6.00</td>\n",
       "      <td>8.00</td>\n",
       "      <td>10.00</td>\n",
       "    </tr>\n",
       "    <tr>\n",
       "      <th>Failed lines after cascade ends</th>\n",
       "      <td>42.84</td>\n",
       "      <td>22.54</td>\n",
       "      <td>2.00</td>\n",
       "      <td>27.00</td>\n",
       "      <td>49.00</td>\n",
       "      <td>58.00</td>\n",
       "      <td>104.00</td>\n",
       "    </tr>\n",
       "    <tr>\n",
       "      <th>Cmax</th>\n",
       "      <td>197.47</td>\n",
       "      <td>171.80</td>\n",
       "      <td>50.00</td>\n",
       "      <td>100.00</td>\n",
       "      <td>200.00</td>\n",
       "      <td>200.00</td>\n",
       "      <td>800.00</td>\n",
       "    </tr>\n",
       "    <tr>\n",
       "      <th>Cmin</th>\n",
       "      <td>65.22</td>\n",
       "      <td>34.97</td>\n",
       "      <td>50.00</td>\n",
       "      <td>50.00</td>\n",
       "      <td>50.00</td>\n",
       "      <td>50.00</td>\n",
       "      <td>800.00</td>\n",
       "    </tr>\n",
       "    <tr>\n",
       "      <th>Load-shedding constraint</th>\n",
       "      <td>0.32</td>\n",
       "      <td>0.24</td>\n",
       "      <td>0.01</td>\n",
       "      <td>0.15</td>\n",
       "      <td>0.30</td>\n",
       "      <td>0.50</td>\n",
       "      <td>0.90</td>\n",
       "    </tr>\n",
       "    <tr>\n",
       "      <th>load-demand ratio</th>\n",
       "      <td>0.73</td>\n",
       "      <td>0.15</td>\n",
       "      <td>0.50</td>\n",
       "      <td>0.60</td>\n",
       "      <td>0.75</td>\n",
       "      <td>0.85</td>\n",
       "      <td>0.99</td>\n",
       "    </tr>\n",
       "    <tr>\n",
       "      <th>Capacity estimation error</th>\n",
       "      <td>0.22</td>\n",
       "      <td>0.15</td>\n",
       "      <td>0.01</td>\n",
       "      <td>0.10</td>\n",
       "      <td>0.20</td>\n",
       "      <td>0.35</td>\n",
       "      <td>0.50</td>\n",
       "    </tr>\n",
       "    <tr>\n",
       "      <th>Flow capacity</th>\n",
       "      <td>428.19</td>\n",
       "      <td>257.28</td>\n",
       "      <td>0.00</td>\n",
       "      <td>224.00</td>\n",
       "      <td>391.00</td>\n",
       "      <td>587.00</td>\n",
       "      <td>1895.00</td>\n",
       "    </tr>\n",
       "    <tr>\n",
       "      <th>Island?</th>\n",
       "      <td>0.01</td>\n",
       "      <td>0.08</td>\n",
       "      <td>0.00</td>\n",
       "      <td>0.00</td>\n",
       "      <td>0.00</td>\n",
       "      <td>0.00</td>\n",
       "      <td>1.00</td>\n",
       "    </tr>\n",
       "    <tr>\n",
       "      <th>Degree</th>\n",
       "      <td>2.67</td>\n",
       "      <td>0.03</td>\n",
       "      <td>2.63</td>\n",
       "      <td>2.65</td>\n",
       "      <td>2.67</td>\n",
       "      <td>2.70</td>\n",
       "      <td>2.74</td>\n",
       "    </tr>\n",
       "    <tr>\n",
       "      <th>Distance</th>\n",
       "      <td>6.99</td>\n",
       "      <td>0.22</td>\n",
       "      <td>2.79</td>\n",
       "      <td>6.86</td>\n",
       "      <td>6.95</td>\n",
       "      <td>7.09</td>\n",
       "      <td>9.36</td>\n",
       "    </tr>\n",
       "    <tr>\n",
       "      <th>Installed capacity</th>\n",
       "      <td>809.56</td>\n",
       "      <td>485.54</td>\n",
       "      <td>100.00</td>\n",
       "      <td>450.00</td>\n",
       "      <td>750.00</td>\n",
       "      <td>1100.00</td>\n",
       "      <td>3600.00</td>\n",
       "    </tr>\n",
       "    <tr>\n",
       "      <th>Loadshed</th>\n",
       "      <td>3015.79</td>\n",
       "      <td>2268.88</td>\n",
       "      <td>0.00</td>\n",
       "      <td>1301.00</td>\n",
       "      <td>2389.00</td>\n",
       "      <td>4091.00</td>\n",
       "      <td>9867.00</td>\n",
       "    </tr>\n",
       "    <tr>\n",
       "      <th>Demand</th>\n",
       "      <td>7321.48</td>\n",
       "      <td>1499.32</td>\n",
       "      <td>4983.00</td>\n",
       "      <td>5979.72</td>\n",
       "      <td>7474.65</td>\n",
       "      <td>8471.27</td>\n",
       "      <td>9867.00</td>\n",
       "    </tr>\n",
       "    <tr>\n",
       "      <th>Served</th>\n",
       "      <td>4305.48</td>\n",
       "      <td>1555.11</td>\n",
       "      <td>-0.46</td>\n",
       "      <td>3942.10</td>\n",
       "      <td>4603.10</td>\n",
       "      <td>5093.96</td>\n",
       "      <td>8879.54</td>\n",
       "    </tr>\n",
       "    <tr>\n",
       "      <th>Human error Probability</th>\n",
       "      <td>0.41</td>\n",
       "      <td>0.36</td>\n",
       "      <td>0.00</td>\n",
       "      <td>0.07</td>\n",
       "      <td>0.34</td>\n",
       "      <td>0.80</td>\n",
       "      <td>1.00</td>\n",
       "    </tr>\n",
       "    <tr>\n",
       "      <th>Generation</th>\n",
       "      <td>4305.47</td>\n",
       "      <td>1555.09</td>\n",
       "      <td>0.00</td>\n",
       "      <td>3942.24</td>\n",
       "      <td>4603.05</td>\n",
       "      <td>5093.93</td>\n",
       "      <td>8879.88</td>\n",
       "    </tr>\n",
       "    <tr>\n",
       "      <th>Alpha</th>\n",
       "      <td>0.10</td>\n",
       "      <td>0.07</td>\n",
       "      <td>0.01</td>\n",
       "      <td>0.05</td>\n",
       "      <td>0.10</td>\n",
       "      <td>0.15</td>\n",
       "      <td>0.20</td>\n",
       "    </tr>\n",
       "    <tr>\n",
       "      <th>Failed lines due to cascade</th>\n",
       "      <td>36.83</td>\n",
       "      <td>22.46</td>\n",
       "      <td>0.00</td>\n",
       "      <td>21.00</td>\n",
       "      <td>43.00</td>\n",
       "      <td>52.00</td>\n",
       "      <td>96.00</td>\n",
       "    </tr>\n",
       "  </tbody>\n",
       "</table>\n",
       "</div>"
      ],
      "text/plain": [
       "                                    mean      std      min      25%      50%  \\\n",
       " Intial failed lines                6.00     2.58     2.00     4.00     6.00   \n",
       "Failed lines after cascade ends    42.84    22.54     2.00    27.00    49.00   \n",
       "Cmax                              197.47   171.80    50.00   100.00   200.00   \n",
       "Cmin                               65.22    34.97    50.00    50.00    50.00   \n",
       "Load-shedding constraint            0.32     0.24     0.01     0.15     0.30   \n",
       "load-demand ratio                   0.73     0.15     0.50     0.60     0.75   \n",
       "Capacity estimation error           0.22     0.15     0.01     0.10     0.20   \n",
       "Flow capacity                     428.19   257.28     0.00   224.00   391.00   \n",
       "Island?                             0.01     0.08     0.00     0.00     0.00   \n",
       "Degree                              2.67     0.03     2.63     2.65     2.67   \n",
       "Distance                            6.99     0.22     2.79     6.86     6.95   \n",
       "Installed capacity                809.56   485.54   100.00   450.00   750.00   \n",
       "Loadshed                         3015.79  2268.88     0.00  1301.00  2389.00   \n",
       "Demand                           7321.48  1499.32  4983.00  5979.72  7474.65   \n",
       "Served                           4305.48  1555.11    -0.46  3942.10  4603.10   \n",
       "Human error Probability             0.41     0.36     0.00     0.07     0.34   \n",
       "Generation                       4305.47  1555.09     0.00  3942.24  4603.05   \n",
       "Alpha                               0.10     0.07     0.01     0.05     0.10   \n",
       "Failed lines due to cascade        36.83    22.46     0.00    21.00    43.00   \n",
       "\n",
       "                                     75%      max  \n",
       " Intial failed lines                8.00    10.00  \n",
       "Failed lines after cascade ends    58.00   104.00  \n",
       "Cmax                              200.00   800.00  \n",
       "Cmin                               50.00   800.00  \n",
       "Load-shedding constraint            0.50     0.90  \n",
       "load-demand ratio                   0.85     0.99  \n",
       "Capacity estimation error           0.35     0.50  \n",
       "Flow capacity                     587.00  1895.00  \n",
       "Island?                             0.00     1.00  \n",
       "Degree                              2.70     2.74  \n",
       "Distance                            7.09     9.36  \n",
       "Installed capacity               1100.00  3600.00  \n",
       "Loadshed                         4091.00  9867.00  \n",
       "Demand                           8471.27  9867.00  \n",
       "Served                           5093.96  8879.54  \n",
       "Human error Probability             0.80     1.00  \n",
       "Generation                       5093.93  8879.88  \n",
       "Alpha                               0.15     0.20  \n",
       "Failed lines due to cascade        52.00    96.00  "
      ]
     },
     "execution_count": 13,
     "metadata": {},
     "output_type": "execute_result"
    }
   ],
   "source": [
    "# round the statistics to 2 decimal points\n",
    "round (dataset_describe,2)"
   ]
  },
  {
   "cell_type": "markdown",
   "metadata": {},
   "source": [
    "Now, we need to check whether all the columns of the dataset are relevant. To do that we can check the correlation and heatmap of colleration using seaborn vizialization.\n"
   ]
  },
  {
   "cell_type": "code",
   "execution_count": 14,
   "metadata": {},
   "outputs": [],
   "source": [
    "correlation = round(dataset.corr(),2)\n"
   ]
  },
  {
   "cell_type": "code",
   "execution_count": 15,
   "metadata": {},
   "outputs": [
    {
     "data": {
      "image/png": "[encoded data removed]",
      "text/plain": [
       "<Figure size 864x576 with 2 Axes>"
      ]
     },
     "metadata": {
      "needs_background": "light"
     },
     "output_type": "display_data"
    }
   ],
   "source": [
    "plt.subplots(figsize=(12,8))\n",
    "sns.heatmap(dataset.corr(),cmap ='coolwarm',)\n",
    "plt.savefig('heatmap.png', format='png',bbox_inches='tight')"
   ]
  },
  {
   "cell_type": "markdown",
   "metadata": {},
   "source": [
    "In the dataset, we can do the following column removals:\n",
    "\n",
    "- loadshed is calculated as the difference between demand and served loads. We need to remove demand and served columns to avoid colinearity. \n",
    "- Island colums can be removed as the value_counts are mostly zero and has no correlation with the failed lines due to cascade.  \n",
    "- We want to predict failed lines due to cascade. So, we should remove failed lines after cascade ends to avoid colinearity.\n",
    "- Flow capacity through the lines needs to be removed as we want to predict the cascade from installed capacities.\n"
   ]
  },
  {
   "cell_type": "code",
   "execution_count": 16,
   "metadata": {},
   "outputs": [
    {
     "data": {
      "text/plain": [
       "0    66388\n",
       "1      429\n",
       "Name: Island?, dtype: int64"
      ]
     },
     "execution_count": 16,
     "metadata": {},
     "output_type": "execute_result"
    }
   ],
   "source": [
    "dataset['Island?'].value_counts()"
   ]
  },
  {
   "cell_type": "code",
   "execution_count": 17,
   "metadata": {},
   "outputs": [],
   "source": [
    "dataset.drop(['Island?','Served','Demand','Failed lines after cascade ends','Flow capacity'],axis=1,inplace=True)"
   ]
  },
  {
   "cell_type": "markdown",
   "metadata": {},
   "source": [
    "- Here, our traget objective is to predict cascading failures. In the dataset, the output variables are Loadshed and Failed lines due to cascade. We define a normalized cascading effect variable as a linear combination of Loadshed and Failed lines due to cascade   "
   ]
  },
  {
   "cell_type": "code",
   "execution_count": 18,
   "metadata": {},
   "outputs": [
    {
     "name": "stderr",
     "output_type": "stream",
     "text": [
      "C:\\Users\\Rezoan Ahmed\\Anaconda5\\lib\\site-packages\\sklearn\\preprocessing\\data.py:323: DataConversionWarning: Data with input dtype int64 were all converted to float64 by MinMaxScaler.\n",
      "  return self.partial_fit(X, y)\n"
     ]
    }
   ],
   "source": [
    "scaler = MinMaxScaler()\n",
    "Scaled_data = scaler.fit_transform(dataset[['Loadshed','Failed lines due to cascade']])"
   ]
  },
  {
   "cell_type": "markdown",
   "metadata": {},
   "source": [
    "- After normalizing the data, we use linear combination of  Loadshed and Failed lines due to cascade to calculate the casding effect and then insert that into the dataframe."
   ]
  },
  {
   "cell_type": "code",
   "execution_count": 19,
   "metadata": {},
   "outputs": [],
   "source": [
    "scaled_df = pd.DataFrame(Scaled_data)\n",
    "scaled_df['Cascading effect'] = 0.5*scaled_df[0]+0.5*scaled_df[1]\n",
    "dataset =pd.concat((dataset,scaled_df['Cascading effect']),axis =1)"
   ]
  },
  {
   "cell_type": "code",
   "execution_count": 20,
   "metadata": {},
   "outputs": [
    {
     "data": {
      "text/html": [
       "<div>\n",
       "<style scoped>\n",
       "    .dataframe tbody tr th:only-of-type {\n",
       "        vertical-align: middle;\n",
       "    }\n",
       "\n",
       "    .dataframe tbody tr th {\n",
       "        vertical-align: top;\n",
       "    }\n",
       "\n",
       "    .dataframe thead th {\n",
       "        text-align: right;\n",
       "    }\n",
       "</style>\n",
       "<table border=\"1\" class=\"dataframe\">\n",
       "  <thead>\n",
       "    <tr style=\"text-align: right;\">\n",
       "      <th></th>\n",
       "      <th>Intial failed lines</th>\n",
       "      <th>Cmax</th>\n",
       "      <th>Cmin</th>\n",
       "      <th>Load-shedding constraint</th>\n",
       "      <th>load-demand ratio</th>\n",
       "      <th>Capacity estimation error</th>\n",
       "      <th>Degree</th>\n",
       "      <th>Distance</th>\n",
       "      <th>Installed capacity</th>\n",
       "      <th>Loadshed</th>\n",
       "      <th>Human error Probability</th>\n",
       "      <th>Generation</th>\n",
       "      <th>Alpha</th>\n",
       "      <th>Failed lines due to cascade</th>\n",
       "      <th>Cascading effect</th>\n",
       "    </tr>\n",
       "  </thead>\n",
       "  <tbody>\n",
       "    <tr>\n",
       "      <th>0</th>\n",
       "      <td>6</td>\n",
       "      <td>200</td>\n",
       "      <td>50</td>\n",
       "      <td>0.45</td>\n",
       "      <td>0.90</td>\n",
       "      <td>0.50</td>\n",
       "      <td>2.675</td>\n",
       "      <td>7.397</td>\n",
       "      <td>1550</td>\n",
       "      <td>6307</td>\n",
       "      <td>0.50</td>\n",
       "      <td>2663.0</td>\n",
       "      <td>0.2</td>\n",
       "      <td>80</td>\n",
       "      <td>0.736267</td>\n",
       "    </tr>\n",
       "    <tr>\n",
       "      <th>1</th>\n",
       "      <td>4</td>\n",
       "      <td>200</td>\n",
       "      <td>100</td>\n",
       "      <td>0.05</td>\n",
       "      <td>0.85</td>\n",
       "      <td>0.20</td>\n",
       "      <td>2.699</td>\n",
       "      <td>6.912</td>\n",
       "      <td>450</td>\n",
       "      <td>2934</td>\n",
       "      <td>0.50</td>\n",
       "      <td>5538.0</td>\n",
       "      <td>0.2</td>\n",
       "      <td>48</td>\n",
       "      <td>0.398677</td>\n",
       "    </tr>\n",
       "    <tr>\n",
       "      <th>2</th>\n",
       "      <td>7</td>\n",
       "      <td>200</td>\n",
       "      <td>100</td>\n",
       "      <td>0.40</td>\n",
       "      <td>0.75</td>\n",
       "      <td>0.01</td>\n",
       "      <td>2.663</td>\n",
       "      <td>6.951</td>\n",
       "      <td>1050</td>\n",
       "      <td>700</td>\n",
       "      <td>0.50</td>\n",
       "      <td>6774.0</td>\n",
       "      <td>0.2</td>\n",
       "      <td>10</td>\n",
       "      <td>0.087555</td>\n",
       "    </tr>\n",
       "    <tr>\n",
       "      <th>3</th>\n",
       "      <td>9</td>\n",
       "      <td>200</td>\n",
       "      <td>50</td>\n",
       "      <td>0.30</td>\n",
       "      <td>0.90</td>\n",
       "      <td>0.05</td>\n",
       "      <td>2.638</td>\n",
       "      <td>7.048</td>\n",
       "      <td>850</td>\n",
       "      <td>1507</td>\n",
       "      <td>0.29</td>\n",
       "      <td>7462.0</td>\n",
       "      <td>0.2</td>\n",
       "      <td>0</td>\n",
       "      <td>0.076366</td>\n",
       "    </tr>\n",
       "    <tr>\n",
       "      <th>4</th>\n",
       "      <td>3</td>\n",
       "      <td>200</td>\n",
       "      <td>50</td>\n",
       "      <td>0.05</td>\n",
       "      <td>0.85</td>\n",
       "      <td>0.35</td>\n",
       "      <td>2.712</td>\n",
       "      <td>6.855</td>\n",
       "      <td>300</td>\n",
       "      <td>3534</td>\n",
       "      <td>0.72</td>\n",
       "      <td>4937.0</td>\n",
       "      <td>0.2</td>\n",
       "      <td>79</td>\n",
       "      <td>0.590540</td>\n",
       "    </tr>\n",
       "  </tbody>\n",
       "</table>\n",
       "</div>"
      ],
      "text/plain": [
       "    Intial failed lines  Cmax  Cmin  Load-shedding constraint  \\\n",
       "0                     6   200    50                      0.45   \n",
       "1                     4   200   100                      0.05   \n",
       "2                     7   200   100                      0.40   \n",
       "3                     9   200    50                      0.30   \n",
       "4                     3   200    50                      0.05   \n",
       "\n",
       "   load-demand ratio  Capacity estimation error  Degree  Distance  \\\n",
       "0               0.90                       0.50   2.675     7.397   \n",
       "1               0.85                       0.20   2.699     6.912   \n",
       "2               0.75                       0.01   2.663     6.951   \n",
       "3               0.90                       0.05   2.638     7.048   \n",
       "4               0.85                       0.35   2.712     6.855   \n",
       "\n",
       "   Installed capacity  Loadshed  Human error Probability  Generation  Alpha  \\\n",
       "0                1550      6307                     0.50      2663.0    0.2   \n",
       "1                 450      2934                     0.50      5538.0    0.2   \n",
       "2                1050       700                     0.50      6774.0    0.2   \n",
       "3                 850      1507                     0.29      7462.0    0.2   \n",
       "4                 300      3534                     0.72      4937.0    0.2   \n",
       "\n",
       "   Failed lines due to cascade  Cascading effect  \n",
       "0                           80          0.736267  \n",
       "1                           48          0.398677  \n",
       "2                           10          0.087555  \n",
       "3                            0          0.076366  \n",
       "4                           79          0.590540  "
      ]
     },
     "execution_count": 20,
     "metadata": {},
     "output_type": "execute_result"
    }
   ],
   "source": [
    "#Check the head of the dataset again\n",
    "dataset.head()"
   ]
  },
  {
   "cell_type": "markdown",
   "metadata": {},
   "source": [
    "- Updated heatmap plot after removing unwanted columns"
   ]
  },
  {
   "cell_type": "code",
   "execution_count": 21,
   "metadata": {},
   "outputs": [
    {
     "data": {
      "image/png": "[encoded data removed]",
      "text/plain": [
       "<Figure size 576x432 with 2 Axes>"
      ]
     },
     "metadata": {
      "needs_background": "light"
     },
     "output_type": "display_data"
    }
   ],
   "source": [
    "plt.subplots(figsize=(8,6))\n",
    "sns.heatmap(dataset.corr(),cmap ='coolwarm',)\n",
    "plt.savefig('heatmap.png', format='png',bbox_inches='tight')"
   ]
  },
  {
   "cell_type": "code",
   "execution_count": 22,
   "metadata": {},
   "outputs": [],
   "source": [
    "dataset.rename(columns ={'Cascading effect':'Cascading_effect'},inplace = True)"
   ]
  },
  {
   "cell_type": "markdown",
   "metadata": {},
   "source": [
    "- Checking the histogram of the cascading effect. It can be observed that the histogram looks bimodal."
   ]
  },
  {
   "cell_type": "code",
   "execution_count": 27,
   "metadata": {},
   "outputs": [
    {
     "data": {
      "text/plain": [
       "Text(0.5, 1.0, 'Histogram of cascading effect')"
      ]
     },
     "execution_count": 27,
     "metadata": {},
     "output_type": "execute_result"
    },
    {
     "data": {
      "image/png": "[encoded data removed]",
      "text/plain": [
       "<Figure size 432x288 with 1 Axes>"
      ]
     },
     "metadata": {
      "needs_background": "light"
     },
     "output_type": "display_data"
    }
   ],
   "source": [
    "plt.hist(dataset.Cascading_effect, bins =30)\n",
    "plt.title('Histogram of cascading effect')"
   ]
  },
  {
   "cell_type": "code",
   "execution_count": null,
   "metadata": {},
   "outputs": [],
   "source": []
  }
 ],
 "metadata": {
  "kernelspec": {
   "display_name": "Python 3",
   "language": "python",
   "name": "python3"
  },
  "language_info": {
   "codemirror_mode": {
    "name": "ipython",
    "version": 3
   },
   "file_extension": ".py",
   "mimetype": "text/x-python",
   "name": "python",
   "nbconvert_exporter": "python",
   "pygments_lexer": "ipython3",
   "version": "3.7.1"
  }
 },
 "nbformat": 4,
 "nbformat_minor": 2
}
